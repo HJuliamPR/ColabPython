{
  "nbformat": 4,
  "nbformat_minor": 0,
  "metadata": {
    "colab": {
      "provenance": [],
      "include_colab_link": true
    },
    "kernelspec": {
      "name": "python3",
      "display_name": "Python 3"
    },
    "language_info": {
      "name": "python"
    }
  },
  "cells": [
    {
      "cell_type": "markdown",
      "metadata": {
        "id": "view-in-github",
        "colab_type": "text"
      },
      "source": [
        "<a href=\"https://colab.research.google.com/github/HJuliamPR/ColabPython/blob/main/Python_para_Data_Science.ipynb\" target=\"_parent\"><img src=\"https://colab.research.google.com/assets/colab-badge.svg\" alt=\"Open In Colab\"/></a>"
      ]
    },
    {
      "cell_type": "markdown",
      "source": [
        "# <font color=green> **PYTHON PARA DATA SCIENCE**\n",
        "---"
      ],
      "metadata": {
        "id": "AGc2Cf4cBwd7"
      }
    },
    {
      "cell_type": "markdown",
      "source": [
        "## <font color=green> 1. BIBLIOTECAS\n",
        "---"
      ],
      "metadata": {
        "id": "fH2br9y9CYZ8"
      }
    },
    {
      "cell_type": "markdown",
      "source": [
        "## 1.1 Instalación e importación de bibliotecas\n",
        "\n",
        "En el lenguaje Python se utiliza bastante el concepto de bibliotecas como un conjunto de módulos y funciones útiles para el usuario. Estas favorecen la reducción del uso de códigos en el proyecto, manteniendo únicamente los recursos necesarios para la tarea que deseamos realizar."
      ],
      "metadata": {
        "id": "jjEKgfiuFzHz"
      }
    },
    {
      "cell_type": "markdown",
      "source": [
        "### Instalando una biblioteca"
      ],
      "metadata": {
        "id": "JjpazCgqDRfZ"
      }
    },
    {
      "cell_type": "markdown",
      "source": [
        "Para instalar o actualizar una biblioteca en Python, podemos acudir a `pip` que es un gestor de bibliotecas en Python."
      ],
      "metadata": {
        "id": "_qnuIo7oIQYx"
      }
    },
    {
      "cell_type": "markdown",
      "source": [
        "Existe también PYPI que es un repositorio de bibliotecas Python que contiene las bibliotecas más utilizadas por la comunidad junto a su respectiva documentación.\n",
        "\n",
        "- PYPI ([https://pypi.org/](https://pypi.org/))"
      ],
      "metadata": {
        "id": "IHTmQnlXInD1"
      }
    },
    {
      "cell_type": "code",
      "source": [],
      "metadata": {
        "id": "Rv5sIo7NM5VS"
      },
      "execution_count": null,
      "outputs": []
    },
    {
      "cell_type": "code",
      "source": [],
      "metadata": {
        "id": "REYsDRqHM6hN"
      },
      "execution_count": null,
      "outputs": []
    },
    {
      "cell_type": "markdown",
      "source": [
        "### Importando una biblioteca"
      ],
      "metadata": {
        "id": "A76TbnDbDehe"
      }
    },
    {
      "cell_type": "code",
      "source": [
        "# 1 - Escribe un código para instalar la versión 3.7.1 de la biblioteca matplotlib.\n",
        "# 2 - Escribe un código para importar la biblioteca numpy con el alias np.\n",
        "\n",
        "# !pip uninstall matplotlib -y\n",
        "# !pip uninstall numpy -y\n",
        "# !pip cache purge\n",
        "# !pip install numpy==1.24.3 matplotlib==3.7.2\n",
        "import matplotlib\n",
        "import numpy as np\n",
        "import random"
      ],
      "metadata": {
        "id": "_xUxLlZFM728",
        "collapsed": true
      },
      "execution_count": null,
      "outputs": []
    },
    {
      "cell_type": "code",
      "source": [
        "# 3 - Crea un programa que lea la siguiente lista de números y elija uno al azar.\n",
        "List = [8, 12, 54, 23, 43, 1, 90, 87, 105, 77]\n",
        "\n",
        "print( random.choice( List ) )\n"
      ],
      "metadata": {
        "id": "xy035zQzM75b",
        "colab": {
          "base_uri": "https://localhost:8080/"
        },
        "outputId": "f0b6475f-9586-4517-a46e-b33bc5803f96"
      },
      "execution_count": null,
      "outputs": [
        {
          "output_type": "stream",
          "name": "stdout",
          "text": [
            "105\n"
          ]
        }
      ]
    },
    {
      "cell_type": "code",
      "source": [
        "# 4 - Crea un programa que genere aleatoriamente un número entero menor que 100.\n",
        "random.randint(0, 100)"
      ],
      "metadata": {
        "collapsed": true,
        "colab": {
          "base_uri": "https://localhost:8080/"
        },
        "id": "qCNq8SGpxHHb",
        "outputId": "9828950b-d261-4fb7-e74a-bc101d921d40"
      },
      "execution_count": null,
      "outputs": [
        {
          "output_type": "execute_result",
          "data": {
            "text/plain": [
              "5"
            ]
          },
          "metadata": {},
          "execution_count": 35
        }
      ]
    },
    {
      "cell_type": "code",
      "source": [
        "# 5 - Crea un programa que solicite a la persona usuaria ingresar dos números\n",
        "# enteros y calcule la potencia del primer número elevado al segundo.\n",
        "\n",
        "a = int(input(\"Ingrese el primer número: \"))\n",
        "b = int(input(\"Ingrese el segundo número: \"))\n",
        "\n",
        "print(a**b)\n",
        "\n",
        "\n"
      ],
      "metadata": {
        "colab": {
          "base_uri": "https://localhost:8080/"
        },
        "id": "vThqcx8zxG-t",
        "outputId": "518aedfa-770f-48a9-9ccf-8053aeb4b255"
      },
      "execution_count": null,
      "outputs": [
        {
          "output_type": "stream",
          "name": "stdout",
          "text": [
            "Ingrese el primer número: 10\n",
            "Ingrese el segundo número: 5\n",
            "100000\n"
          ]
        }
      ]
    },
    {
      "cell_type": "code",
      "source": [
        "\"\"\"6 - Se debe escribir un programa para sortear a un seguidor de una red social\n",
        "para ganar un premio. La lista de participantes está numerada y debemos elegir\n",
        "aleatoriamente un número según la cantidad de participantes. Pide a la persona\n",
        "usuaria que proporcione el número de participantes del sorteo y devuelve el\n",
        "número sorteado.\"\"\"\n",
        "\n",
        "participantes = int(input(\"Ingrese la cantidad de participantes: \"))\n",
        "\n",
        "print(random.randint(1, participantes))"
      ],
      "metadata": {
        "colab": {
          "base_uri": "https://localhost:8080/"
        },
        "id": "UxC4U9rtynLV",
        "outputId": "cb253fb3-3dfc-4b05-fc56-4b4f00480911"
      },
      "execution_count": null,
      "outputs": [
        {
          "output_type": "stream",
          "name": "stdout",
          "text": [
            "Ingrese la cantidad de participantes: 100\n",
            "18\n"
          ]
        }
      ]
    },
    {
      "cell_type": "code",
      "source": [
        "\"\"\"7 - Has recibido una solicitud para generar números de token para acceder a la\n",
        "aplicación de una empresa. El token debe ser par y variar de 1000 a 9998.\n",
        "Escribe un código que solicite el nombre de la persona usuaria y muestre un\n",
        "mensaje junto a este token generado aleatoriamente.\"\"\"\n",
        "\n",
        "nombre = input(\"Ingrese su nombre: \")\n",
        "\n",
        "print(f\"Hola {nombre}, su token es: {random.randint(1000, 9998)}\")\n"
      ],
      "metadata": {
        "colab": {
          "base_uri": "https://localhost:8080/"
        },
        "id": "YouOkLt7ym_9",
        "outputId": "0d591aee-5713-4d6c-a126-7ca85a0f69ae"
      },
      "execution_count": null,
      "outputs": [
        {
          "output_type": "stream",
          "name": "stdout",
          "text": [
            "Ingrese su nombre: Gabriel\n",
            "Hola Gabriel, su token es: 7308\n"
          ]
        }
      ]
    },
    {
      "cell_type": "code",
      "source": [
        "\"\"\"8 - Para diversificar y atraer nuevos clientes, una lanchonete creó un ítem\n",
        "misterioso en su menú llamado \"ensalada de frutas sorpresa\". En este ítem, se\n",
        "eligen aleatoriamente 3 frutas de una lista de 12 para componer la ensalada de\n",
        "frutas del cliente. Crea el código que realice esta selección aleatoria según la\n",
        "lista dada.\"\"\"\n",
        "\n",
        "Fruit = [\"pera\", \"manzana\", \"patilla\", \"mango\", \"uvas\", \"cerezas\",\n",
        "         \"kiwi\", \"granadilla\", \"mandarina\", \"Melon\", \"Sandía\", \"Platano\"]\n",
        "\n",
        "print(random.sample(Fruit, 3))"
      ],
      "metadata": {
        "colab": {
          "base_uri": "https://localhost:8080/"
        },
        "id": "ruXONNDYy55L",
        "outputId": "19ddca5a-e1c5-4c96-d5f4-0c60d425d9c0"
      },
      "execution_count": null,
      "outputs": [
        {
          "output_type": "stream",
          "name": "stdout",
          "text": [
            "['pera', 'patilla', 'Sandía']\n"
          ]
        }
      ]
    },
    {
      "cell_type": "code",
      "source": [
        "\"\"\"9 - Has recibido un desafío para calcular la raíz cuadrada de una lista de números,\n",
        "identificando cuáles resultan en un número entero. La lista es la siguiente:\"\"\"\n",
        "import math\n",
        "numeros = [2, 8, 15, 23, 91, 112, 256]\n",
        "\n",
        "for i in numeros:\n",
        "  if math.sqrt(i) % 2 == 0:\n",
        "    print(f\"La raíz cuadrada de {i} es un número entero\")\n",
        "  else:\n",
        "    print(f\"La raíz cuadrada de {i} no es un número entero\")\n"
      ],
      "metadata": {
        "colab": {
          "base_uri": "https://localhost:8080/"
        },
        "id": "GGE3g40qy5ts",
        "outputId": "9aa6858a-0586-4769-cb23-df72f013e92b"
      },
      "execution_count": null,
      "outputs": [
        {
          "output_type": "stream",
          "name": "stdout",
          "text": [
            "La raíz cuadrada de 2 no es un número entero\n",
            "La raíz cuadrada de 8 no es un número entero\n",
            "La raíz cuadrada de 15 no es un número entero\n",
            "La raíz cuadrada de 23 no es un número entero\n",
            "La raíz cuadrada de 91 no es un número entero\n",
            "La raíz cuadrada de 112 no es un número entero\n",
            "La raíz cuadrada de 256 es un número entero\n"
          ]
        }
      ]
    },
    {
      "cell_type": "code",
      "source": [
        "\"\"\"10 - Haz un programa para una tienda que vende césped para jardines. Esta tienda\n",
        "trabaja con jardines circulares y el precio del metro cuadrado de césped es de\n",
        "R$ 25,00. Pide a la persona usuaria el radio del área circular y devuelve el valor\n",
        "en reales de cuánto tendrá que pagar.\"\"\"\n",
        "\n",
        "GrassPrice = 25;\n",
        "\n",
        "Radious = int(input(\"Ingrese el radio del área circular: \"))\n",
        "\n",
        "print(f\"El valor a pagar es de R$ {GrassPrice * math.pi * math.pow(Radious, 2):.2f}\")\n"
      ],
      "metadata": {
        "colab": {
          "base_uri": "https://localhost:8080/"
        },
        "id": "HJUVfmZY1n0G",
        "outputId": "181256ed-af60-48ec-8abb-261d8e403dd8"
      },
      "execution_count": null,
      "outputs": [
        {
          "output_type": "stream",
          "name": "stdout",
          "text": [
            "Ingrese el radio del área circular: 10\n",
            "El valor a pagar es de R$7853.98\n"
          ]
        }
      ]
    },
    {
      "cell_type": "markdown",
      "source": [
        "## 1.2 Utilizando módulos/bibliotecas\n",
        "\n",
        "- Documentación de Python (https://docs.python.org/es/3/)"
      ],
      "metadata": {
        "id": "oMxkV9-6GXwH"
      }
    },
    {
      "cell_type": "markdown",
      "source": [
        "#### Ejemplo 1: Vamos a probar la biblioteca Matplotlib para un ejemplo sobre el cálculo de los promedios de notas de los estudiantes de una clase.\n",
        "\n",
        "(https://matplotlib.org/stable/tutorials/introductory/pyplot.html)"
      ],
      "metadata": {
        "id": "W1MHaXB2Q7tT"
      }
    },
    {
      "cell_type": "code",
      "source": [],
      "metadata": {
        "id": "hme-WlDYM-Od"
      },
      "execution_count": null,
      "outputs": []
    },
    {
      "cell_type": "code",
      "source": [],
      "metadata": {
        "id": "mv1h3vJsM-RK"
      },
      "execution_count": null,
      "outputs": []
    },
    {
      "cell_type": "code",
      "source": [],
      "metadata": {
        "id": "GK77H828M-Zk"
      },
      "execution_count": null,
      "outputs": []
    },
    {
      "cell_type": "markdown",
      "source": [
        "#### Ejemplo 2: Vamos a seleccionar aleatoriamente a un alumno para presentar su trabajo de ciencia de datos usando la biblioteca `random`.\n",
        "\n",
        "(https://docs.python.org/es/3/library/random.html)"
      ],
      "metadata": {
        "id": "5G6u4ZRYRIFZ"
      }
    },
    {
      "cell_type": "code",
      "source": [],
      "metadata": {
        "id": "Y4o2AvhWNBdM"
      },
      "execution_count": null,
      "outputs": []
    },
    {
      "cell_type": "code",
      "source": [],
      "metadata": {
        "id": "9fXfsVnANBiG"
      },
      "execution_count": null,
      "outputs": []
    },
    {
      "cell_type": "markdown",
      "source": [
        "<font color=green>**Tip:**</font> Podrás notar a medida que avanzas en los ejercicios la importancia de acudir a la documentación para aprender cómo utilizar un método de algún módulo en el lenguaje Python.\n",
        "\n",
        "El método `help()`, por ejemplo, retorna una descripción sobre una variable, método o clase.\n",
        "\n",
        "https://docs.python.org/es/3/library/functions.html?#help"
      ],
      "metadata": {
        "id": "N-XJrnISGpTN"
      }
    },
    {
      "cell_type": "code",
      "source": [],
      "metadata": {
        "id": "a2zJCXNUND9X"
      },
      "execution_count": null,
      "outputs": []
    },
    {
      "cell_type": "code",
      "source": [],
      "metadata": {
        "id": "2Yvr71PIND_r"
      },
      "execution_count": null,
      "outputs": []
    },
    {
      "cell_type": "code",
      "source": [],
      "metadata": {
        "id": "UFfZz4CxNGjU"
      },
      "execution_count": null,
      "outputs": []
    },
    {
      "cell_type": "markdown",
      "source": [
        "## <font color=green> 2. FUNCIONES\n",
        "---"
      ],
      "metadata": {
        "id": "2hrSPmlcBwWS"
      }
    },
    {
      "cell_type": "markdown",
      "source": [
        "En Python, las **funciones** son secuencias de instrucciones que ejecutan tareas específicas, permitiendo su reutilización en diferentes partes del código. Estas pueden recibir parámetros de entrada (que también los conocemos como *inputs*) y también retornar resultados."
      ],
      "metadata": {
        "id": "gC4lHsW-DREY"
      }
    },
    {
      "cell_type": "markdown",
      "source": [
        "## 2.1 Built-in function (Función Incorporada)\n",
        "\n",
        "El interpretador de Python contiene una serie de funciones incorporadas que pueden ser invocadas es cualquier momento. Algunas que vamos a utilizar a lo largo de este curso son: `type()`, `print()`, `list()`, `zip()`, `sum()`, `map()`, etc.\n",
        "\n",
        "***Documentación:***\n",
        "https://docs.python.org/es/3/library/functions.html\n"
      ],
      "metadata": {
        "id": "Qr_h1_UNEzHZ"
      }
    },
    {
      "cell_type": "markdown",
      "source": [
        "#### **Situación 1:**\n",
        "\n",
        "La institución educativa para la cual nos encontramos trabajando compartió los datos de las notas de un estudiante para que pudiesemos calcular su promedio con una casilla decimal.\n",
        "\n",
        "Los datos recibidos corresponden a un diccionario cuyas llaves indican el trimestre en cuestión y sus valores corresponden a las notas de cada trimestre del estudiante en una respectiva materia."
      ],
      "metadata": {
        "id": "MMOJIW3TyLIB"
      }
    },
    {
      "cell_type": "code",
      "source": [
        "def Mean(Numbers:list):\n",
        "  return sum(Numbers) / len(Numbers)"
      ],
      "metadata": {
        "id": "WQ-pCgdaMOlc"
      },
      "execution_count": null,
      "outputs": []
    },
    {
      "cell_type": "code",
      "source": [
        "Mean([1,2,3,4,5,6,7,8,9,10])"
      ],
      "metadata": {
        "id": "GU-HvC-QMOoS",
        "colab": {
          "base_uri": "https://localhost:8080/"
        },
        "outputId": "26374ca2-2ee8-470c-b905-d65d3ef180f9"
      },
      "execution_count": null,
      "outputs": [
        {
          "output_type": "execute_result",
          "data": {
            "text/plain": [
              "5.5"
            ]
          },
          "metadata": {},
          "execution_count": 2
        }
      ]
    },
    {
      "cell_type": "code",
      "source": [],
      "metadata": {
        "id": "qKEyjY2bMOqj"
      },
      "execution_count": null,
      "outputs": []
    },
    {
      "cell_type": "markdown",
      "source": [
        "*Redondear el promedio usando round():*\n",
        "\n",
        "https://docs.python.org/es/3/library/functions.html#round"
      ],
      "metadata": {
        "id": "JD2z3LW8312E"
      }
    },
    {
      "cell_type": "code",
      "source": [],
      "metadata": {
        "id": "c7Cn5XFfMP5E"
      },
      "execution_count": null,
      "outputs": []
    },
    {
      "cell_type": "code",
      "source": [],
      "metadata": {
        "id": "eVNPFr0pMRWl"
      },
      "execution_count": null,
      "outputs": []
    },
    {
      "cell_type": "markdown",
      "source": [
        "## 2.2 Creando funciones"
      ],
      "metadata": {
        "id": "NCUSezOJIdfy"
      }
    },
    {
      "cell_type": "markdown",
      "source": [
        "Tras explorar las funciones incorporadas y aprender cómo utilizar algunas de ellas, es posible que tengas la necesidad de resolver un problema específico y estas no sean suficientes.\n",
        "\n",
        "Por este motivo, necesitaremos crear nuestras propias funciones, y aún más, si necesitamos aplicarlas en varias partes de nuestros códigos."
      ],
      "metadata": {
        "id": "QrTAXwghsg6s"
      }
    },
    {
      "cell_type": "markdown",
      "source": [
        "### Funciones sin parámetros\n",
        "\n",
        "#### Formato estándar:\n",
        "\n",
        "```python\n",
        "def <nombre>():\n",
        "  <instrucciones>\n",
        "```"
      ],
      "metadata": {
        "id": "zxyXiX462A_X"
      }
    },
    {
      "cell_type": "code",
      "source": [],
      "metadata": {
        "id": "WgWoULpnMSrT"
      },
      "execution_count": null,
      "outputs": []
    },
    {
      "cell_type": "code",
      "source": [],
      "metadata": {
        "id": "VKfg0zkDMStp"
      },
      "execution_count": null,
      "outputs": []
    },
    {
      "cell_type": "code",
      "source": [],
      "metadata": {
        "id": "04YIHBu-MTNB"
      },
      "execution_count": null,
      "outputs": []
    },
    {
      "cell_type": "markdown",
      "source": [
        "### Funciones con parámetros\n",
        "\n",
        "#### Formato estándar:\n",
        "\n",
        "```python\n",
        "def <nombre>(<param_1>, <param_2>, ..., <param_n>):\n",
        "  <instrucciones>\n",
        "```"
      ],
      "metadata": {
        "id": "o9AR_DNDFKSD"
      }
    },
    {
      "cell_type": "code",
      "source": [],
      "metadata": {
        "id": "1QHJXCYsMUx3"
      },
      "execution_count": null,
      "outputs": []
    },
    {
      "cell_type": "code",
      "source": [],
      "metadata": {
        "id": "txkkIwheMU0n"
      },
      "execution_count": null,
      "outputs": []
    },
    {
      "cell_type": "code",
      "source": [],
      "metadata": {
        "id": "Pq88ApQEMWK9"
      },
      "execution_count": null,
      "outputs": []
    },
    {
      "cell_type": "markdown",
      "source": [
        "#### **Situación 2:**\n",
        "\n",
        "Recibimos una solicitud para crear una función que calcule el promedio de notas de un estudiante a partir de una lista; que permita alterar la cantidad de notas, y que no implique tener que modificar la función.\n",
        "\n",
        "Los datos recibidos, en esta ocasión, corresponden a una lista que contiene las notas de un mismo estudiante en una determinada materia.\n",
        "\n",
        "notas = 8.5, 9.0, 6.0, 10.0\n",
        "\n",
        "**¿Vamos a resolver este desafío?**\n",
        "\n",
        "Para facilitar nuestra comprensión del proceso, vamos a aplicar las notas de un único estudiante; sin embargo, puedes probar otros casos para practicar."
      ],
      "metadata": {
        "id": "-Umx7n134suz"
      }
    },
    {
      "cell_type": "code",
      "source": [
        "notas = [8.5, 9.0, 6.0, 10.0]"
      ],
      "metadata": {
        "id": "U4MlTO9ucAKc"
      },
      "execution_count": null,
      "outputs": []
    },
    {
      "cell_type": "code",
      "source": [],
      "metadata": {
        "id": "ZrqyDBNFMYOK"
      },
      "execution_count": null,
      "outputs": []
    },
    {
      "cell_type": "code",
      "source": [],
      "metadata": {
        "id": "wEkixagwMY2E"
      },
      "execution_count": null,
      "outputs": []
    },
    {
      "cell_type": "code",
      "source": [],
      "metadata": {
        "id": "60Gvxd9tMa5d"
      },
      "execution_count": null,
      "outputs": []
    },
    {
      "cell_type": "markdown",
      "source": [
        "<font color=red>**Atención!**</font>\n",
        "Cuando utilizamos funciones, necesitamos prestar atención a una propiedad llamada **Alcance de una función**. Esta propiedad determina dónde una variable puede ser utilizada dentro del código. Por ejemplo, una variable creada dentro de una función existirá únicamente dentro de esta función. O sea, cuando finaliza la ejecución de una función, la variable no estará disponible para el usuario en el resto del código."
      ],
      "metadata": {
        "id": "skMq7d0_xHND"
      }
    },
    {
      "cell_type": "code",
      "source": [],
      "metadata": {
        "id": "yTOqJSgsMbdJ"
      },
      "execution_count": null,
      "outputs": []
    },
    {
      "cell_type": "markdown",
      "source": [
        "## 2.3 Funciones que retornan valores\n",
        "\n",
        "#### Formato estándar:\n",
        "\n",
        "```python\n",
        "def <nombre>(<param_1>, <param_2>, ..., <param_n>):\n",
        "  <instrucciones>\n",
        "  return resultado\n",
        "```"
      ],
      "metadata": {
        "id": "-oDFGKcA52kG"
      }
    },
    {
      "cell_type": "markdown",
      "source": [
        "Retomando la actividad anterior, podemos retornar y guardar el valor del promedio de la siguiente forma:"
      ],
      "metadata": {
        "id": "DxvT_uItbQ-q"
      }
    },
    {
      "cell_type": "code",
      "source": [
        "# Notas del estudiante\n",
        "notas = [8.5, 9.0, 6.0, 10.0]"
      ],
      "metadata": {
        "id": "GlWdnX7Ubgl3"
      },
      "execution_count": null,
      "outputs": []
    },
    {
      "cell_type": "code",
      "source": [],
      "metadata": {
        "id": "JdMFsT9GMgI6"
      },
      "execution_count": null,
      "outputs": []
    },
    {
      "cell_type": "code",
      "source": [],
      "metadata": {
        "id": "p7AwNnTCMgLf"
      },
      "execution_count": null,
      "outputs": []
    },
    {
      "cell_type": "code",
      "source": [],
      "metadata": {
        "id": "35zC247QMgRP"
      },
      "execution_count": null,
      "outputs": []
    },
    {
      "cell_type": "code",
      "source": [],
      "metadata": {
        "id": "TjmB8IWpMgV4"
      },
      "execution_count": null,
      "outputs": []
    },
    {
      "cell_type": "markdown",
      "source": [
        "#### **Situación 3:**\n",
        "\n",
        "Recibimos una nueva solicitud. Debemos calcular el promedio de un estudiante a partir de una lista y retornar tanto el promedio como la situación del estudiante (\"Aprobado(a)\" si la nota es mayor o igual a 7.0, en caso contrario, será \"Reprobado(a)\").\n",
        "\n",
        "Además de ello, necesitamos exhibir un pequeño texto para indicar el promedio del estudiante y cuál es su situación. Los datos recibidos corresponden a una lista que contiene apenas las notas de un estudiante en una materia determinada.\n",
        "\n",
        "**¿Vamos a resolver este desafío?**\n",
        "\n",
        "Para facilitar nuestra comprensión del proceso, vamos a aplicar las notas de un único estudiante; sin embargo, puedes probar otros casos para practicar."
      ],
      "metadata": {
        "id": "_awyOKOH8OOi"
      }
    },
    {
      "cell_type": "code",
      "source": [
        "# Notas del estudiante\n",
        "notas = [8.5, 9.0, 6.0, 10.0]"
      ],
      "metadata": {
        "id": "3saGo2kDf0BY"
      },
      "execution_count": null,
      "outputs": []
    },
    {
      "cell_type": "code",
      "source": [],
      "metadata": {
        "id": "unNLrdFjMjbv"
      },
      "execution_count": null,
      "outputs": []
    },
    {
      "cell_type": "code",
      "source": [],
      "metadata": {
        "id": "Rmvg4hNeMjeD"
      },
      "execution_count": null,
      "outputs": []
    },
    {
      "cell_type": "code",
      "source": [],
      "metadata": {
        "id": "jCYuFpmeMji6"
      },
      "execution_count": null,
      "outputs": []
    },
    {
      "cell_type": "code",
      "source": [],
      "metadata": {
        "id": "hSht0Z2cMjlT"
      },
      "execution_count": null,
      "outputs": []
    },
    {
      "cell_type": "code",
      "source": [],
      "metadata": {
        "id": "tLdjCulMMjnD"
      },
      "execution_count": null,
      "outputs": []
    },
    {
      "cell_type": "markdown",
      "source": [
        "## 2.4 Funciones lambda\n",
        "\n",
        "También se conocen como funciones anónimas, son funciones que no necesitan ser definidas, o sea, no poseen un nombre, y describen en una única fila los comandos que deseamos aplicar.\n",
        "\n",
        "https://docs.python.org/es/3/reference/expressions.html?#lambda\n",
        "\n",
        "#### Formato estándar:\n",
        "\n",
        "```python\n",
        "lambda <variable>: <expresion>\n",
        "```"
      ],
      "metadata": {
        "id": "hwYYRpkZMft5"
      }
    },
    {
      "cell_type": "code",
      "source": [
        "lambda Grades: sum(Grades) / len(Grades)"
      ],
      "metadata": {
        "id": "wcNxDJoPMmTJ",
        "colab": {
          "base_uri": "https://localhost:8080/"
        },
        "outputId": "f55b0eab-9e30-4bf3-8207-2d1c149f4bdf"
      },
      "execution_count": null,
      "outputs": [
        {
          "output_type": "execute_result",
          "data": {
            "text/plain": [
              "<function __main__.<lambda>(Grades)>"
            ]
          },
          "metadata": {},
          "execution_count": 3
        }
      ]
    },
    {
      "cell_type": "code",
      "source": [],
      "metadata": {
        "id": "S-baAoaQMmVy"
      },
      "execution_count": null,
      "outputs": []
    },
    {
      "cell_type": "markdown",
      "source": [
        "#### **Situación 4:**\n",
        "\n",
        "En esta nueva solicitud, necesitamos crear una calculadora simple para obtener el promedio ponderado de notas de una materia determinada. Vamos a pedir que el usuario introduzca 3 notas (N1, N2, N3) del estudiante y devuelva el promedio ponderado de este estudiante. Los pesos de las notas son de, respectivamente 3, 2 y 5.\n",
        "\n",
        "Necesitamos exhibir un pequeño texto para poder indicar el promedio del estudiante.\n",
        "**¿Vamos a resolver este desafío?**\n"
      ],
      "metadata": {
        "id": "AuRWyNXYgD_b"
      }
    },
    {
      "cell_type": "markdown",
      "source": [
        "**Resolviendo nuestro problema:**"
      ],
      "metadata": {
        "id": "vdKk3DRBmtUE"
      }
    },
    {
      "cell_type": "code",
      "source": [
        "GradesInput = [];\n",
        "GradesWeight =[0.3,0.2,0.5];\n",
        "for i in range(3):\n",
        "  GradesInput.append(float(input(f\"Ingrese la nota {i+1}: \")))\n",
        "\n",
        "\n",
        "\n",
        "def PonderateMean( Grades:list, Weight:list ):\n",
        "  Pon_Mean = 0;\n",
        "  for i in range(len(Grades)):\n",
        "    Pon_Mean += Grades[i] * Weight[i]/len(Grades)\n",
        "  return Pon_Mean\n",
        "\n",
        "PonderateMean(GradesInput, GradesWeight)"
      ],
      "metadata": {
        "id": "6YxEn9aiMnYJ",
        "colab": {
          "base_uri": "https://localhost:8080/"
        },
        "outputId": "5c7c76df-033d-4df5-eabe-835510ed1b34"
      },
      "execution_count": null,
      "outputs": [
        {
          "name": "stdout",
          "output_type": "stream",
          "text": [
            "Ingrese la nota 1: 2.6\n",
            "Ingrese la nota 2: 7.8\n",
            "Ingrese la nota 3: 6.74\n"
          ]
        },
        {
          "output_type": "execute_result",
          "data": {
            "text/plain": [
              "1.9033333333333333"
            ]
          },
          "metadata": {},
          "execution_count": 8
        }
      ]
    },
    {
      "cell_type": "code",
      "source": [
        "print( (2.6*0.3+7.8*0.2+6.74*0.5)/3 )"
      ],
      "metadata": {
        "id": "Ptn9gQaPMnaz",
        "colab": {
          "base_uri": "https://localhost:8080/"
        },
        "outputId": "dadcf9cb-459b-4453-c451-d306b995daf4"
      },
      "execution_count": null,
      "outputs": [
        {
          "output_type": "stream",
          "name": "stdout",
          "text": [
            "1.9033333333333333\n"
          ]
        }
      ]
    },
    {
      "cell_type": "code",
      "source": [],
      "metadata": {
        "id": "i1K-jp7ncNwI"
      },
      "execution_count": null,
      "outputs": []
    },
    {
      "cell_type": "code",
      "source": [
        "MeanPonderate = lambda Grades:list, Weight:list: sum(Grades) / len(Grades)"
      ],
      "metadata": {
        "id": "9eNCT82QbkCO"
      },
      "execution_count": null,
      "outputs": []
    },
    {
      "cell_type": "code",
      "source": [],
      "metadata": {
        "colab": {
          "base_uri": "https://localhost:8080/",
          "height": 147
        },
        "id": "hWGkKjbcbj2V",
        "outputId": "714278bf-f708-40e1-f705-bebb72ab1d7d"
      },
      "execution_count": null,
      "outputs": [
        {
          "output_type": "error",
          "ename": "TypeError",
          "evalue": "can't multiply sequence by non-int of type 'list'",
          "traceback": [
            "\u001b[0;31m---------------------------------------------------------------------------\u001b[0m",
            "\u001b[0;31mTypeError\u001b[0m                                 Traceback (most recent call last)",
            "\u001b[0;32m<ipython-input-11-d6f0d78298b5>\u001b[0m in \u001b[0;36m<cell line: 0>\u001b[0;34m()\u001b[0m\n\u001b[0;32m----> 1\u001b[0;31m \u001b[0mprint\u001b[0m\u001b[0;34m(\u001b[0m \u001b[0;34m[\u001b[0m\u001b[0;36m2.6\u001b[0m\u001b[0;34m,\u001b[0m \u001b[0;36m7.8\u001b[0m\u001b[0;34m,\u001b[0m \u001b[0;36m6.74\u001b[0m\u001b[0;34m]\u001b[0m \u001b[0;34m*\u001b[0m \u001b[0;34m[\u001b[0m\u001b[0;36m0.3\u001b[0m\u001b[0;34m,\u001b[0m \u001b[0;36m0.2\u001b[0m\u001b[0;34m,\u001b[0m \u001b[0;36m0.5\u001b[0m\u001b[0;34m]\u001b[0m \u001b[0;34m)\u001b[0m\u001b[0;34m\u001b[0m\u001b[0;34m\u001b[0m\u001b[0m\n\u001b[0m",
            "\u001b[0;31mTypeError\u001b[0m: can't multiply sequence by non-int of type 'list'"
          ]
        }
      ]
    },
    {
      "cell_type": "markdown",
      "source": [
        "#### **Situación 5:**\n",
        "\n",
        "Ahora, debemos crear una pequeña función que permita dar una nota cualitativa (puntaje extra) a las notas del trimestre de los estudiantes del grupo que ganó el concurso de programación realizado en la institución. Cada estudiante recibirá el cualitativo de 0.5 añadido al promedio.\n",
        "\n",
        "Los datos recibidos corresponden a una lista que contiene las notas de algunos estudiantes y una variable con el cualitativo recibido.\n",
        "\n",
        "**¿Vamos a resolver este desafío?**\n",
        "\n",
        "Para facilitar nuestra comprensión del proceso, vamos a aplicar las notas de 5 estudiantes; sin embargo, puedes probar otros casos para practicar."
      ],
      "metadata": {
        "id": "1qk0gLdfFcbf"
      }
    },
    {
      "cell_type": "markdown",
      "source": [
        "### Mapeando valores\n",
        "\n",
        "#### Formato estándar:\n",
        "\n",
        "```python\n",
        "map(<lambda function>, <iterador>)\n",
        "```"
      ],
      "metadata": {
        "id": "SOK4BC4mmKbG"
      }
    },
    {
      "cell_type": "code",
      "source": [
        "# Notas del estudiante\n",
        "notas = [6.0, 7.0, 9.0, 5.5, 8.0]\n",
        "cualitativo = 0.5"
      ],
      "metadata": {
        "id": "RdoaWhuVI_OB"
      },
      "execution_count": null,
      "outputs": []
    },
    {
      "cell_type": "code",
      "source": [
        "CualitativeGrade = map(lambda x: x+0.5, notas)\n"
      ],
      "metadata": {
        "id": "PzDfbv-kMq2t"
      },
      "execution_count": null,
      "outputs": []
    },
    {
      "cell_type": "code",
      "source": [
        "FinalResult = list(CualitativeGrade)"
      ],
      "metadata": {
        "id": "3YDQ39wFMq5u"
      },
      "execution_count": null,
      "outputs": []
    },
    {
      "cell_type": "code",
      "source": [
        "print(FinalResult)"
      ],
      "metadata": {
        "id": "ZbfpvfWJMsjv",
        "colab": {
          "base_uri": "https://localhost:8080/"
        },
        "outputId": "908d5c9e-a19b-4f64-a520-261307766930"
      },
      "execution_count": null,
      "outputs": [
        {
          "output_type": "stream",
          "name": "stdout",
          "text": [
            "[6.5, 7.5, 9.5, 6.0, 8.5]\n"
          ]
        }
      ]
    },
    {
      "cell_type": "code",
      "source": [
        "def media(lista: list=[0]) -> float:\n",
        "  '''Función para calcular la media de notas pasadas por una lista\n",
        "\n",
        "  lista: list, default [0]\n",
        "    Lista con las notas para calcular la media\n",
        "  return = calculo: float\n",
        "    Media calculada\n",
        "  '''\n",
        "  calculo = sum(lista) / len(lista)\n",
        "  return calculo"
      ],
      "metadata": {
        "id": "TA-zGLJfMseA"
      },
      "execution_count": null,
      "outputs": []
    },
    {
      "cell_type": "code",
      "source": [
        "help(map)"
      ],
      "metadata": {
        "id": "PrAppvR6MuKm",
        "colab": {
          "base_uri": "https://localhost:8080/"
        },
        "outputId": "4763df46-1203-408b-de4f-49971cdc3c17"
      },
      "execution_count": null,
      "outputs": [
        {
          "output_type": "stream",
          "name": "stdout",
          "text": [
            "Help on class map in module builtins:\n",
            "\n",
            "class map(object)\n",
            " |  map(func, *iterables) --> map object\n",
            " |  \n",
            " |  Make an iterator that computes the function using arguments from\n",
            " |  each of the iterables.  Stops when the shortest iterable is exhausted.\n",
            " |  \n",
            " |  Methods defined here:\n",
            " |  \n",
            " |  __getattribute__(self, name, /)\n",
            " |      Return getattr(self, name).\n",
            " |  \n",
            " |  __iter__(self, /)\n",
            " |      Implement iter(self).\n",
            " |  \n",
            " |  __next__(self, /)\n",
            " |      Implement next(self).\n",
            " |  \n",
            " |  __reduce__(...)\n",
            " |      Return state information for pickling.\n",
            " |  \n",
            " |  ----------------------------------------------------------------------\n",
            " |  Static methods defined here:\n",
            " |  \n",
            " |  __new__(*args, **kwargs)\n",
            " |      Create and return a new object.  See help(type) for accurate signature.\n",
            "\n"
          ]
        }
      ]
    },
    {
      "cell_type": "code",
      "source": [
        "lista = [16, 14, 63, 65, 17, 99, 70, 11, 20, 48, 79, 32, 17, 89, 12, 25, 66]\n",
        "# 1. Leer el tamaño de la lista\n",
        "# 2. Leer el valor máximo y mínimo\n",
        "# 3. Calcular la suma de los valores de la lista\n",
        "# 4. Mostrar un mensaje al final: La lista tiene `tamano` números, donde el mayor\n",
        "# es `mayor` y el menor es `menor`. La suma de los valores es `suma`.\n",
        "\n",
        "print(f\"list lenght is {len(lista)}\")\n",
        "print(f\"max value is {max(lista)}\")\n",
        "print(f\"min value is {min(lista)}\")\n",
        "print(f\"list sum is {sum(lista)}\")\n",
        "\n",
        "\n"
      ],
      "metadata": {
        "id": "6ckgVPpJkqyk"
      },
      "execution_count": null,
      "outputs": []
    },
    {
      "cell_type": "code",
      "source": [
        "TableInput = int(input(\"Ingrese el tamaño de la tabla: \"))\n",
        "\n",
        "for i in range(1, 10+1):\n",
        "  print(f\"{TableInput} x {i} = {TableInput*i}\")"
      ],
      "metadata": {
        "colab": {
          "base_uri": "https://localhost:8080/"
        },
        "id": "kDxSECX8kqt6",
        "outputId": "fe6a7e25-f891-4b91-d357-18619a194e7c"
      },
      "execution_count": null,
      "outputs": [
        {
          "output_type": "stream",
          "name": "stdout",
          "text": [
            "Ingrese el tamaño de la tabla: 7\n",
            "7 x 1 = 7\n",
            "7 x 2 = 14\n",
            "7 x 3 = 21\n",
            "7 x 4 = 28\n",
            "7 x 5 = 35\n",
            "7 x 6 = 42\n",
            "7 x 7 = 49\n",
            "7 x 8 = 56\n",
            "7 x 9 = 63\n",
            "7 x 10 = 70\n"
          ]
        }
      ]
    },
    {
      "cell_type": "markdown",
      "source": [
        "## <font color=green> 3. ESTRUCTURAS DE DATOS COMPUESTAS\n",
        "---"
      ],
      "metadata": {
        "id": "DoB6wf2JCYf7"
      }
    },
    {
      "cell_type": "code",
      "source": [
        "List = [97, 80, 94, 88, 80, 1, 16, 53, 62, 32, 24, 99]\n",
        "ThreeMultiple = [];\n",
        "\n",
        "for i in List:\n",
        "  if i % 3 == 0:\n",
        "    ThreeMultiple.append(i)\n",
        "\n",
        "print(ThreeMultiple)"
      ],
      "metadata": {
        "colab": {
          "base_uri": "https://localhost:8080/"
        },
        "id": "ryyNuppBlcG1",
        "outputId": "88a34df2-8ead-49b5-e1fb-81a0350855ac"
      },
      "execution_count": null,
      "outputs": [
        {
          "output_type": "stream",
          "name": "stdout",
          "text": [
            "[24, 99]\n"
          ]
        }
      ]
    },
    {
      "cell_type": "code",
      "source": [
        "List_1 = [1, 2, 3, 4, 5, 6, 7, 8, 9, 10]\n",
        "\n",
        "List_Pow = list( map( lambda x: x**2, List_1 ) )\n",
        "\n",
        "\n",
        "print(List_Pow)"
      ],
      "metadata": {
        "colab": {
          "base_uri": "https://localhost:8080/"
        },
        "id": "KYSjRqO9lb8z",
        "outputId": "d149fea2-f7d3-4350-cfb5-11a18ef22a29"
      },
      "execution_count": null,
      "outputs": [
        {
          "output_type": "stream",
          "name": "stdout",
          "text": [
            "[1, 4, 9, 16, 25, 36, 49, 64, 81, 100]\n"
          ]
        }
      ]
    },
    {
      "cell_type": "code",
      "source": [
        "# 7 - Has recibido una demanda para tratar 2 listas con los nombres\n",
        "# y apellidos de cada estudiante concatenándolos para presentar sus nombres\n",
        "#  completos en la forma Nombre Apellido. Las listas son:\n",
        "\n",
        "nombres = [\"juan\", \"MaRia\", \"JOSÉ\"]\n",
        "apellidos = [\"SILVA\", \"sosa\", \"Tavares\"]\n",
        "\n",
        "FullName_List = list( map( lambda x, y: x.capitalize() + \" \" + y.capitalize() , nombres, apellidos ) )\n",
        "\n",
        "print( FullName_List )"
      ],
      "metadata": {
        "colab": {
          "base_uri": "https://localhost:8080/"
        },
        "id": "ZJGji4t9mUEB",
        "outputId": "6d71767c-db78-4fb9-cfbf-f89a1d0c0e3b"
      },
      "execution_count": null,
      "outputs": [
        {
          "output_type": "stream",
          "name": "stdout",
          "text": [
            "['Juan Silva', 'Maria Sosa', 'José Tavares']\n"
          ]
        }
      ]
    },
    {
      "cell_type": "code",
      "source": [
        "# 8 - Como científico de datos en un equipo de fútbol, necesitas implementar nuevas\n",
        "# formas de recopilación de datos sobre el rendimiento de los jugadores y del equipo\n",
        "# en su conjunto. Tu primera acción es crear una forma de calcular la puntuación del\n",
        "# equipo en el campeonato nacional a partir de los datos de goles marcados y recibidos\n",
        "#  en cada juego.\n",
        "\n",
        "# Escribe una función llamada calcula_puntos() que recibe como parámetros dos listas\n",
        "# de números enteros, representando los goles marcados y recibidos por el equipo en\n",
        "# cada partido del campeonato. La función debe devolver la puntuación del equipo y\n",
        "# el rendimiento en porcentaje, teniendo en cuenta que la victoria vale 3 puntos,\n",
        "# el empate 1 punto y la derrota 0 puntos.\n",
        "\n",
        "# Nota: si la cantidad de goles marcados en un partido es mayor que los recibidos,\n",
        "# el equipo ganó. En caso de ser igual, el equipo empató, y si es menor, el equipo\n",
        "# perdió. Para calcular el rendimiento, debemos hacer la razón entre la puntuación\n",
        "# del equipo y la puntuación máxima que podría recibir.\n",
        "\n",
        "# Para la prueba, utiliza las siguientes listas de goles marcados y recibidos:\n",
        "\n",
        "goles_marcados = [2, 1, 3, 1, 0]\n",
        "goles_recibidos = [1, 2, 2, 1, 3]\n",
        "# Texto probablemente mostrado:\n",
        "# La puntuación del equipo fue `puntos` y su rendimiento fue `desempeno`%\"\n",
        "\n",
        "def calcula_puntos(goles_marcados:list, goles_recibidos:list) -> str:\n",
        "  puntos = 0\n",
        "  for i in range(len(goles_marcados)):\n",
        "    if goles_marcados[i] > goles_recibidos[i]:\n",
        "      puntos += 3\n",
        "    elif goles_marcados[i] == goles_recibidos[i]:\n",
        "      puntos += 1\n",
        "  rendimiento = puntos / (len(goles_marcados) * 3) * 100\n",
        "  return f\"La puntuación del equipo fue {puntos} y su rendimiento fue {rendimiento:.2f}%\"\n",
        "\n",
        "calcula_puntos(goles_marcados, goles_recibidos)\n",
        "\n"
      ],
      "metadata": {
        "id": "m-6uhLTrmT4d"
      },
      "execution_count": null,
      "outputs": []
    },
    {
      "cell_type": "code",
      "source": [
        "# 9 - Te han desafiado a crear un código que calcule los gastos de un viaje a una\n",
        "# de las cuatro ciudades desde Recife, siendo ellas: Salvador, Fortaleza, Natal y\n",
        "# Aracaju.\n",
        "\n",
        "# El costo diario del hotel es de 150 reales en todas ellas y el consumo de gasolina\n",
        "# en el viaje en coche es de 14 km/l, siendo que el precio de la gasolina es de 5\n",
        "# reales por litro. Los gastos con paseos y alimentación a realizar en cada una de\n",
        "# ellas por día serían [200, 400, 250, 300], respectivamente.\n",
        "\n",
        "# Sabiendo que las distancias entre Recife y cada una de las ciudades son\n",
        "# aproximadamente [850, 800, 300, 550] km, crea tres funciones: la primera función\n",
        "# calcula los gastos de hotel (gasto_hotel), la segunda calcula los gastos de gasolina\n",
        "#  (gasto_gasolina) y la tercera los gastos de paseo y alimentación (gasto_paseo).\n",
        "\n",
        "# Para probar, simula un viaje de 3 días a Salvador desde Recife. Considera el viaje\n",
        "#  de ida y vuelta en coche.\n",
        "\n",
        "\n",
        "def HotelExpenses(Days:int, Cost:int, NumberDestination:int) -> list:\n",
        "  HotelDaysExpenses = [];\n",
        "  for i in range( NumberDestination ):\n",
        "    HotelDaysExpenses.append(Days * Cost)\n",
        "  return HotelDaysExpenses\n",
        "\n",
        "def GasolineExpenses(Distance:list, Consumption:int, Cost:int) -> list:\n",
        "  GasolineDaysExpenses = [];\n",
        "  for i in range( len(Distance) ):\n",
        "    GasolineDaysExpenses.append(2 * Distance[i] * Consumption * Cost)\n",
        "  return GasolineDaysExpenses\n",
        "\n",
        "def MealsExpenses(Days:int, Cost:list) -> list:\n",
        "  MealsDaysExpenses = [];\n",
        "  for i in range( len(Cost) ):\n",
        "    MealsDaysExpenses.append(Days * Cost[i])\n",
        "  return MealsDaysExpenses\n",
        "\n",
        "Destination = [\"Salvador\", \"Fortaleza\", \"Natal\", \"Aracaju\"]\n",
        "hotelCost = 150; #$ Reales per day\n",
        "GasolineConsumption = 14; #km/L\n",
        "GasolineCost = 5; #$ Reales/L\n",
        "DailyPass = [200, 400, 250, 300]; #$ Reales per day\n",
        "Distance = [850, 800, 300, 550]; #km\n",
        "VactionDays = 3;\n",
        "\n",
        "HotelExpenses(VactionDays, hotelCost, len(Destination))\n",
        "GasolineExpenses(Distance, GasolineConsumption, GasolineCost)\n",
        "MealsExpenses(VactionDays, DailyPass)\n",
        "\n"
      ],
      "metadata": {
        "colab": {
          "base_uri": "https://localhost:8080/"
        },
        "id": "iWpca2ttmTxK",
        "outputId": "7d0e04c9-d68a-4034-85d7-4c11a4a3c176"
      },
      "execution_count": null,
      "outputs": [
        {
          "output_type": "execute_result",
          "data": {
            "text/plain": [
              "[600, 1200, 750, 900]"
            ]
          },
          "metadata": {},
          "execution_count": 24
        }
      ]
    },
    {
      "cell_type": "code",
      "source": [
        "# 10 - Has comenzado una pasantía en una empresa que trabaja con procesamiento\n",
        "# de lenguaje natural (NLP). Tu líder te solicitó que crees un fragmento de código\n",
        "# que reciba una frase escrita por el usuario y filtre solo las palabras con un\n",
        "# tamaño mayor o igual a 5, mostrándolas en una lista. Esta demanda se centra en\n",
        "# el análisis del patrón de comportamiento de las personas al escribir palabras\n",
        "# de esta cantidad de caracteres o más.\n",
        "\n",
        "# Consejo: utiliza las funciones lambda y filter() para filtrar estas palabras.\n",
        "# Recordando que la función integrada filter() recibe una función\n",
        "#  (en nuestro caso, una función lambda) y filtra un iterable según la función.\n",
        "#  Para tratar la frase, utiliza replace() para cambiar ',' '.', '!' y '?'\n",
        "#  por espacio.\n",
        "\n",
        "# Utiliza la frase \"Aprender.?!,Python.?!, aquí.?!, en.?!, Alura.?!, es.?!, muy.?!, bueno\"\n",
        "# para probar el código.\n",
        "\n",
        "Caracther = [\".\", \",\", \"!\", \"?\"];\n",
        "\n",
        "# InputPhrase = str( input(\"Ingrese una frase: \") );\n",
        "InputPhrase = \"Aprender.?!,Python.?!, aquí.?!, en.?!, Alura.?!, es.?!, muy.?!, bueno\"\n",
        "\n",
        "InputPhrase = InputPhrase.replace(\",\", \" \").replace(\".\", \" \").replace(\"!\", \" \").replace(\"?\", \" \").split();\n",
        "DeleteItems = [];\n",
        "\n",
        "x = list( filter( lambda x: len(x) >= 5, ListPhrase ) )\n",
        "print(x)\n",
        "# for i in ListPhrase:\n",
        "#   if len(i) < 5:\n",
        "#     DeleteItems.append(i)\n",
        "\n",
        "# for i in DeleteItems:\n",
        "#   ListPhrase.remove(i)\n",
        "\n",
        "# print( ListPhrase )\n",
        "\n",
        "\n",
        "\n",
        "\n"
      ],
      "metadata": {
        "id": "bh_jVH4ylbxA",
        "colab": {
          "base_uri": "https://localhost:8080/"
        },
        "outputId": "a4992c06-503e-4bf5-d87c-b428f6c2f7d6"
      },
      "execution_count": null,
      "outputs": [
        {
          "output_type": "stream",
          "name": "stdout",
          "text": [
            "['Aprender', 'Python', 'Alura', 'bueno']\n"
          ]
        }
      ]
    },
    {
      "cell_type": "code",
      "source": [
        "text =\n",
        "x = text.split()\n",
        "\n"
      ],
      "metadata": {
        "colab": {
          "base_uri": "https://localhost:8080/"
        },
        "id": "48IVcD1oqZQo",
        "outputId": "e59ef62f-aea8-4e72-dd46-cfad3a95d57d"
      },
      "execution_count": null,
      "outputs": [
        {
          "output_type": "stream",
          "name": "stdout",
          "text": [
            "['Aprender', 'Python', 'aquí', 'en', 'Alura', 'es', 'muy', 'bueno']\n",
            "['Aprender', 'Python', 'Alura', 'bueno']\n"
          ]
        }
      ]
    },
    {
      "cell_type": "code",
      "source": [
        "#\n",
        "x = [\"en\", \"es\"]\n",
        "DeleteItems.remove( x )\n",
        "print( DeleteItems )\n",
        "print(x)"
      ],
      "metadata": {
        "id": "64xmntwgqZMH"
      },
      "execution_count": null,
      "outputs": []
    },
    {
      "cell_type": "code",
      "source": [
        "X = text.replace(\"aquí\", \"ALLÁ\")\n",
        "print( 2 < 5 )"
      ],
      "metadata": {
        "id": "K6eN_s2SqYxx",
        "colab": {
          "base_uri": "https://localhost:8080/"
        },
        "outputId": "e4319179-e72a-495d-bdaa-760da7e5a73a"
      },
      "execution_count": null,
      "outputs": [
        {
          "output_type": "stream",
          "name": "stdout",
          "text": [
            "True\n"
          ]
        }
      ]
    },
    {
      "cell_type": "markdown",
      "source": [
        "## 3.1 Estructuras anidadas\n",
        "\n",
        "Previamente, aprendimos a manipular las listas, tuplas y diccionarios para trabajar con una secuencia o colección de valores sean numéricos, categóricos, etc. En esta aula, vamos a profundizar en otra situación común para la persona científica de datos que es trabajar con estos tipos de estructuras anidadas, o sea, cuando, por ejemplo, tenemos listas dentro de una lista."
      ],
      "metadata": {
        "id": "3or6MbnZDW_b"
      }
    },
    {
      "cell_type": "markdown",
      "source": [
        "### **Lista de listas**\n",
        "\n",
        "#### Formato estándar:\n",
        "\n",
        "```python\n",
        "[[a1, a2,...,an], [b1, b2,...,bn], ..., [n1, n2,...,nn]]\n",
        "```"
      ],
      "metadata": {
        "id": "fddus1G9HqB3"
      }
    },
    {
      "cell_type": "markdown",
      "source": [
        "#### **Situación 6:**\n",
        "\n",
        "Recibimos la demanda de transformar una lista con el nombre y las notas de tres trimestres de algunos estudiantes en una lista simple, con los nombres separados de las notas, y una lista de listas con las tres notas de cada estudiante separadas entre sí. Los datos recibidos corresponden a una lista con los nombres y las respectivas notas de cada estudiante.\n",
        "\n",
        "**¿Vamos a resolver este desafío?**\n",
        "\n",
        "Para facilitar nuestra comprensión del proceso, vamos a trabajar con un grupo de 5 estudiantes; sin embargo, puedes probar otros casos para practicar.\n"
      ],
      "metadata": {
        "id": "32K5LA11tFpz"
      }
    },
    {
      "cell_type": "code",
      "source": [
        "notas_grupo = ['Juan', 8.0, 9.0, 10.0, 'Maria', 9.0, 7.0, 6.0, 'José', 3.4, 7.0, 7.0, 'Claudia', 5.5, 6.6, 8.0, 'Ana', 6.0, 10.0, 9.5]"
      ],
      "metadata": {
        "id": "jlEP-c2YthpB"
      },
      "execution_count": null,
      "outputs": []
    },
    {
      "cell_type": "code",
      "source": [
        "Names = []\n",
        "Grades = []\n",
        "\n",
        "for i in range(0, len(notas_grupo), 4):\n",
        "  Names.append(notas_grupo[i])\n",
        "  Grades.append(notas_grupo[i+1:i+3+1])\n",
        "\n",
        "print(Names)\n",
        "print(Grades)"
      ],
      "metadata": {
        "id": "azR_cX-ILghB",
        "colab": {
          "base_uri": "https://localhost:8080/"
        },
        "outputId": "e7368e02-8470-4c65-e16a-44f8435813dc"
      },
      "execution_count": null,
      "outputs": [
        {
          "output_type": "stream",
          "name": "stdout",
          "text": [
            "['Juan', 'Maria', 'José', 'Claudia', 'Ana']\n",
            "[[8.0, 9.0, 10.0], [9.0, 7.0, 6.0], [3.4, 7.0, 7.0], [5.5, 6.6, 8.0], [6.0, 10.0, 9.5]]\n"
          ]
        }
      ]
    },
    {
      "cell_type": "code",
      "source": [
        "\"\"\"\n",
        "  Constructor: int(), float(), str(), dict(), list(), bool(), tuple()\n",
        "  zip(): it's a built-in puython function. it returns a tuple, and argument\n",
        "          are list with the same lenght.\n",
        "        What it does is to iterate each item a create a tuple whose elemets are tuples too.\n",
        "        So, it pairs the elements.\n",
        "\"\"\"\n",
        "\n",
        "DiccStudentNames = dict(zip(Names, Grades))\n",
        "print(DiccStudentNames)"
      ],
      "metadata": {
        "id": "GhfsJvs9LgjY",
        "colab": {
          "base_uri": "https://localhost:8080/"
        },
        "outputId": "2fed002a-1f78-4953-a1f6-e9568a454727"
      },
      "execution_count": null,
      "outputs": [
        {
          "output_type": "stream",
          "name": "stdout",
          "text": [
            "{'Juan': [8.0, 9.0, 10.0], 'Maria': [9.0, 7.0, 6.0], 'José': [3.4, 7.0, 7.0], 'Claudia': [5.5, 6.6, 8.0], 'Ana': [6.0, 10.0, 9.5]}\n"
          ]
        }
      ]
    },
    {
      "cell_type": "code",
      "source": [],
      "metadata": {
        "id": "6MV0HR4LS0dl"
      },
      "execution_count": null,
      "outputs": []
    },
    {
      "cell_type": "code",
      "source": [
        "\n"
      ],
      "metadata": {
        "id": "tB8FA20gLiog"
      },
      "execution_count": null,
      "outputs": []
    },
    {
      "cell_type": "code",
      "source": [],
      "metadata": {
        "id": "SCi8Jl82Liqo",
        "colab": {
          "base_uri": "https://localhost:8080/"
        },
        "outputId": "bcc95ae0-6363-4f02-c52b-87c33752a3e9"
      },
      "execution_count": null,
      "outputs": [
        {
          "output_type": "execute_result",
          "data": {
            "text/plain": [
              "('Juan', [8.0, 9.0, 10.0])"
            ]
          },
          "metadata": {},
          "execution_count": 20
        }
      ]
    },
    {
      "cell_type": "markdown",
      "source": [
        "### **Lista de tuplas**\n",
        "\n",
        "#### Formato estándar:\n",
        "\n",
        "```python\n",
        "[(a1, a2,...,an), (b1, b2,...,bn), ..., (n1, n2,...,nn)]\n",
        "```"
      ],
      "metadata": {
        "id": "SW0sVg68sK_z"
      }
    },
    {
      "cell_type": "markdown",
      "source": [
        "#### **Situación 7:**\n",
        "\n",
        "Necesitamos generar una lista de tuplas con los nombres de los estudiantes y el código ID de cada uno de ellos para la plataforma de análisis de datos. La creación del código consiste en concatenar la primera letra del nombre del estudiante con un número aleatorio de 0 a 999. Los datos recibidos corresponden a una lista con los nombres de cada estudiante.\n",
        "\n",
        "**¿Vamos a resolver este desafío?**\n",
        "\n",
        "Para facilitar nuestra comprensión del proceso, vamos a trabajar con un grupo de 5 estudiantes; sin embargo, puedes probar otros casos para practicar.\n"
      ],
      "metadata": {
        "id": "OId6jAZz5x2m"
      }
    },
    {
      "cell_type": "code",
      "source": [],
      "metadata": {
        "id": "YA1zJ0G6LkTy"
      },
      "execution_count": null,
      "outputs": []
    },
    {
      "cell_type": "code",
      "source": [],
      "metadata": {
        "id": "yBzPwhGiLkWa"
      },
      "execution_count": null,
      "outputs": []
    },
    {
      "cell_type": "code",
      "source": [],
      "metadata": {
        "id": "9qgGAjSyLndK"
      },
      "execution_count": null,
      "outputs": []
    },
    {
      "cell_type": "code",
      "source": [],
      "metadata": {
        "id": "jVRxtOyeLngM"
      },
      "execution_count": null,
      "outputs": []
    },
    {
      "cell_type": "markdown",
      "source": [
        "## 3.2 List comprehension\n",
        "\n",
        "Es una forma simple y concisa de crear una lista. Podemos aplicar condicionales y lazos para crear diversos tipos de listas a partir de patrones que deseamos para nuestra estructura de datos.\n",
        "\n",
        "https://docs.python.org/es/3/tutorial/datastructures.html?#list-comprehensions\n",
        "\n",
        "#### Formato estándar:\n",
        "\n",
        "```python\n",
        "[expresion for item in lista]\n",
        "```"
      ],
      "metadata": {
        "id": "srHAov19QCdb"
      }
    },
    {
      "cell_type": "markdown",
      "source": [
        "#### **Situación 8:**\n",
        "\n",
        "Recibimos la demanda de crear una lista con el promedio de los estudiantes de la lista de listas que creamos en la Situación 6, redondeando el promedio a una casilla decimal. Recordando que cada lista de la lista de listas contiene las tres notas de cada estudiante.\n",
        "\n",
        "**¿Vamos a resolver este desafío?**\n",
        "\n",
        "**Tip:** Utiliza el formato:\n",
        "```python\n",
        "[expresion for item in lista]\n",
        "```"
      ],
      "metadata": {
        "id": "l4HW0gDqecgM"
      }
    },
    {
      "cell_type": "code",
      "source": [
        "def promedio(lista: list=[0]) -> float:\n",
        "  ''' Función para calcular el promedio de notas en una lista\n",
        "  lista: list, default [0]\n",
        "    Lista con las notas para calcular el promedio\n",
        "  return = calculo: float\n",
        "    Promedio calculado\n",
        "  '''\n",
        "\n",
        "  calculo = sum(lista) / len(lista)\n",
        "\n",
        "  return calculo"
      ],
      "metadata": {
        "id": "J_atQRQdlpNe"
      },
      "execution_count": null,
      "outputs": []
    },
    {
      "cell_type": "code",
      "source": [],
      "metadata": {
        "id": "h7LeBrgnLAG6"
      },
      "execution_count": null,
      "outputs": []
    },
    {
      "cell_type": "code",
      "source": [],
      "metadata": {
        "id": "3j8_H7e8LAJZ"
      },
      "execution_count": null,
      "outputs": []
    },
    {
      "cell_type": "markdown",
      "source": [
        "#### **Situación 9:**\n",
        "\n",
        "Ahora, necesitamos utilizar los promedios calculados en el ejemplo anterior, y agruparlos con el nombre de los respectivos estudiantes. Esto será necesario para generar una lista que seleccione a aquellos estudiantes que posean un promedio final mayor o igual a 8 para concursar por una beca de estudios para el próximo año lectivo. Los datos recibidos corresponden a una lista de tuplas con los nombres y los códigos de los estudiantes junto a la lista de promedios calculados previamente.\n",
        "\n",
        "**Nota: El número de código será diferente cada vez que se ejecute la celda que los genera, por lo tanto, es completamente normal que estos códigos sean diferentes.**\n",
        "\n",
        "**¿Vamos a resolver este desafío?**\n",
        "\n",
        "Para facilitar nuestra comprensión del proceso vamos a trabajar con un grupo de 5 estudiantes.\n",
        "\n",
        "**Tip:** Utiliza el formato:\n",
        "\n",
        "```python\n",
        "[expresion for item in lista if condicion]\n",
        "```"
      ],
      "metadata": {
        "id": "ApLjXlAdhJKd"
      }
    },
    {
      "cell_type": "markdown",
      "source": [
        "lambda and list comprehensions are similar ways to use functions in a single line with multiple parameters."
      ],
      "metadata": {
        "id": "GSmpWrgRdYFi"
      }
    },
    {
      "cell_type": "code",
      "source": [
        "\"\""
      ],
      "metadata": {
        "id": "QK-ubmmrLC7I"
      },
      "execution_count": null,
      "outputs": []
    },
    {
      "cell_type": "markdown",
      "source": [],
      "metadata": {
        "id": "XfWhHGrQdnRE"
      }
    },
    {
      "cell_type": "code",
      "source": [],
      "metadata": {
        "id": "df1Q8GGELC9b"
      },
      "execution_count": null,
      "outputs": []
    },
    {
      "cell_type": "markdown",
      "source": [
        "<font color=green>**Tip:**</font> Para lograr parear los promedios y\n",
        "los nombres fácilmente, podemos acudir a otra  built-in function: `zip()`\n",
        "\n",
        "Esta recibe uno o más iterables (lista, string, dict, etc.) y los retorna como un iterador de tuplas donde cada elemento de los iterables es pareado."
      ],
      "metadata": {
        "id": "U6KAABs7Dfpe"
      }
    },
    {
      "cell_type": "code",
      "source": [],
      "metadata": {
        "id": "841v92WvLEol"
      },
      "execution_count": null,
      "outputs": []
    },
    {
      "cell_type": "code",
      "source": [],
      "metadata": {
        "id": "U8b4G_2oLErp"
      },
      "execution_count": null,
      "outputs": []
    },
    {
      "cell_type": "markdown",
      "source": [
        "#### **Situación 10:**\n",
        "\n",
        "Recibimos dos demandas sobre este proyecto con las notas de los estudiantes:\n",
        "- Crear una lista de la situación de los estudiantes considerando los siguientes casos: Si su promedio es mayor o igual a 7, recibirá el valor \"Aprobado\" y en caso contrario recibirá el valor \"Reprobado\".\n",
        "- Generar una lista de listas con:\n",
        "  - Lista de tuplas con el nombre de los estudiantes y sus códigos\n",
        "  - Lista de listas con las notas de cada estudiante\n",
        "  - Lista con los promedios de cada estudiante\n",
        "  - Lista de la situación de los estudiantes de acuerdo con los promedios\n",
        "\n",
        "Los datos que utilizaremos son los mismos que generamos en las situaciones anteriores (`nombres`, `notas`, `promedios`).\n",
        "\n",
        "**¿Vamos a resolver este desafío?**\n",
        "\n",
        "Para avanzar en el proceso, vamos a dejar escritas las estructuras de datos que ya produjimos.\n",
        "\n",
        "**Tip:** Para la lista de las situaciones utiliza el formato:\n",
        "```python\n",
        "[resultado_if if condicion else resultado_else for item in lista]\n",
        "```"
      ],
      "metadata": {
        "id": "9yzRDIB0fkeF"
      }
    },
    {
      "cell_type": "code",
      "source": [],
      "metadata": {
        "id": "YGQIaCzkLGqd"
      },
      "execution_count": null,
      "outputs": []
    },
    {
      "cell_type": "code",
      "source": [],
      "metadata": {
        "id": "vHyyMMwVvJ5n"
      },
      "execution_count": null,
      "outputs": []
    },
    {
      "cell_type": "code",
      "source": [],
      "metadata": {
        "id": "OAAQHwE1LGs2"
      },
      "execution_count": null,
      "outputs": []
    },
    {
      "cell_type": "code",
      "source": [],
      "metadata": {
        "id": "LBp4frQwEjhu"
      },
      "execution_count": null,
      "outputs": []
    },
    {
      "cell_type": "markdown",
      "source": [
        "**Tip:** Para generar la lista de listas del enunciado podemos utilizar el siguiente formato:\n",
        "```python\n",
        "[expresion for item in lista de listas]\n",
        "```"
      ],
      "metadata": {
        "id": "0XsAi49IF9Ta"
      }
    },
    {
      "cell_type": "code",
      "source": [],
      "metadata": {
        "id": "1Dj6R1vTLIbI"
      },
      "execution_count": null,
      "outputs": []
    },
    {
      "cell_type": "code",
      "source": [],
      "metadata": {
        "id": "cTLEQQ2eLIqc"
      },
      "execution_count": null,
      "outputs": []
    },
    {
      "cell_type": "markdown",
      "source": [
        "<font color=green>**Tip:**</font> Podemos acudir a la forma más simple de generación de lista de listas con el uso directo de los corchetes sin la necesidad de utilizar las expresiones y el lazo `for` que se emplea en la comprensión de listas."
      ],
      "metadata": {
        "id": "4hkHEZGbGH7X"
      }
    },
    {
      "cell_type": "code",
      "source": [
        "\"\"\"\n",
        "Resumen de comprensión de listas:\n",
        "\n",
        "  [expresion for item in lista]\n",
        "  [expresion for item in lista if condicion]\n",
        "  [resultado_if if condicion else resultado_else for item in lista]\n",
        "  [expresion for item in lista de listas]\n",
        "\n",
        "  These are expresions to create list intuitive with for loops and conditionals.\n",
        "  with the notation of [], it is quite intuitive, that a list is going to be genered\n",
        "\n",
        "  In order to extend my knowledge and skills I gotta make and effort to learn new concepts,\n",
        "  new vocabulary, and apply it in numbers ways. Remeber the concepts, sounds, letters,\n",
        "  feelings, and then create and apply. Expand your knowledge\n",
        "\n",
        "  That skills to define a goal, objetivs, then investigate, extract knowledge\n",
        "  experiment, create, iterate, performe, observe myself and reflect and then improve.\n",
        "  That's the system i've got to create.\n",
        "\"\"\""
      ],
      "metadata": {
        "id": "1tEtWzSoLKKg"
      },
      "execution_count": null,
      "outputs": []
    },
    {
      "cell_type": "code",
      "source": [
        "alturas = [1.70, 1.80, 1.65, 1.75, 1.90]\n",
        "pesos = [65, 80, 58, 70, 95]\n",
        "x = list( zip(alturas, pesos) )\n",
        "imc = [round((peso / altura**2), 1) for altura, peso in x]\n",
        "print(imc)"
      ],
      "metadata": {
        "id": "lRk02Bm5LMB3",
        "colab": {
          "base_uri": "https://localhost:8080/"
        },
        "outputId": "90c200dc-381d-4565-e358-355bee93dfcd"
      },
      "execution_count": null,
      "outputs": [
        {
          "output_type": "stream",
          "name": "stdout",
          "text": [
            "[22.5, 24.7, 21.3, 22.9, 26.3]\n"
          ]
        }
      ]
    },
    {
      "cell_type": "markdown",
      "source": [
        "## 3.3 Dict comprehension\n",
        "\n",
        "Es una forma simple y concisa de crear o modificar un diccionario. Podemos aplicar condicionales y lazos para crear diversos tipos de diccionarios a partir de los patrones que buscamos para nuestra estructura de datos y con el soporte de iterables como listas o sets.\n",
        "\n",
        "https://peps.python.org/pep-0274/\n",
        "\n",
        "#### Formato estándar:\n",
        "\n",
        "```python\n",
        "{llave: valor for item in lista}\n",
        "```"
      ],
      "metadata": {
        "id": "NmohhDl-QRpx"
      }
    },
    {
      "cell_type": "markdown",
      "source": [
        "#### **Situación 11:**\n",
        "\n",
        "Ahora, nuestra demanda consiste en generar un diccionario a partir de la lista de listas que creamos en la Situación 10 para entregar a la persona responsable por construir las tablas para el análisis de los datos.\n",
        "- Las llaves de nuestro diccionario serán las columnas identificando el tipo de dato\n",
        "- Los valores serán las listas con los datos correspondientes a aquella llave.\n",
        "\n",
        "**¿Vamos a resolver este desafío?**\n",
        "\n",
        "Para facilitar nuestra comprensión del proceso vamos a trabajar con un grupo de 5 estudiantes.\n",
        "\n",
        "**Tip:** Utiliza el formato\n",
        "\n",
        "```python\n",
        "{llave: valor for item in lista}\n",
        "```"
      ],
      "metadata": {
        "id": "kGt8hQXOKeIt"
      }
    },
    {
      "cell_type": "code",
      "source": [
        "\"\"\"\n",
        "Dictionary comprehension:\n",
        "{key: value for item in list}\n",
        "\n",
        "\"\"\""
      ],
      "metadata": {
        "id": "GuTwYw8NLNST"
      },
      "execution_count": null,
      "outputs": []
    },
    {
      "cell_type": "code",
      "source": [
        "\"\"\"1 - Crea un código para imprimir la suma de los elementos de cada una de las\n",
        "listas contenidas en la siguiente lista:\"\"\"\n",
        "\n",
        "lista_de_listas = [[4, 6, 5, 9], [1, 0, 7, 2], [3, 4, 1, 8]]\n",
        "\n",
        "for i in lista_de_listas:\n",
        "  print(i, sum(i), sep = \" = \")"
      ],
      "metadata": {
        "id": "Ka1JPCuvLP4x",
        "colab": {
          "base_uri": "https://localhost:8080/"
        },
        "outputId": "620fa124-fb6c-430e-c9c0-0e3247a475a2"
      },
      "execution_count": null,
      "outputs": [
        {
          "output_type": "stream",
          "name": "stdout",
          "text": [
            "[4, 6, 5, 9] = 24\n",
            "[1, 0, 7, 2] = 10\n",
            "[3, 4, 1, 8] = 16\n"
          ]
        }
      ]
    },
    {
      "cell_type": "code",
      "source": [
        "\"\"\"2 - Crea un código para generar una lista que almacene el tercer elemento de cada\n",
        "tupla contenida en la siguiente lista de tuplas:\"\"\"\n",
        "\n",
        "lista_de_tuplas = [('Pedro', 1.74, 81), ('Júlia', 1.65, 67), ('Otávio', 1.81, 83)]\n",
        "\n",
        "# In this code, I'm able to use a variable i which represent an iterator in a for loop.\n",
        "Lista = [ i[2] for i in lista_de_tuplas ]\n",
        "print(Lista)\n",
        "\n"
      ],
      "metadata": {
        "colab": {
          "base_uri": "https://localhost:8080/"
        },
        "id": "glfeXy-nXSpi",
        "outputId": "bef084a4-bf4b-45bf-9d4d-e4050d314e32"
      },
      "execution_count": null,
      "outputs": [
        {
          "output_type": "stream",
          "name": "stdout",
          "text": [
            "[81, 67, 83]\n"
          ]
        }
      ]
    },
    {
      "cell_type": "code",
      "source": [
        "\"\"\"3 - A partir de la lista: lista = ['Pedro', 'Júlia', 'Otávio', 'Eduardo'], crea un código\n",
        " para generar una lista de tuplas en la que cada tupla tenga el primer elemento como la\n",
        "  posición del nombre en la lista original y el segundo elemento siendo el propio nombre.\"\"\"\n",
        "\n",
        "List = ['Pedro', 'Júlia', 'Otávio', 'Eduardo']\n",
        "\n",
        "List_Tuple = [ (i, List[i]) for i in range(len(List)) ]\n",
        "print(List_Tuple)\n",
        "\n"
      ],
      "metadata": {
        "id": "4GhlzfLbLP8L",
        "colab": {
          "base_uri": "https://localhost:8080/"
        },
        "outputId": "20e99939-c222-4a7b-dc54-c0398915da1b"
      },
      "execution_count": null,
      "outputs": [
        {
          "output_type": "stream",
          "name": "stdout",
          "text": [
            "[(0, 'Pedro'), (1, 'Júlia'), (2, 'Otávio'), (3, 'Eduardo')]\n"
          ]
        }
      ]
    },
    {
      "cell_type": "code",
      "source": [
        "\"\"\"4 - Crea una lista usando la comprensión de listas (list comprehension) que almacene solo\n",
        " el valor numérico de cada tupla en caso de que el primer elemento sea 'Apartamento', a\n",
        " partir de la siguiente lista de tuplas:\"\"\"\n",
        "\n",
        "alquiler = [('Apartamento', 1700), ('Apartamento', 1400), ('Casa', 2150),\n",
        "            ('Apartamento', 1900), ('Casa', 1100)]\n",
        "\n",
        "ApartmenList = [ i[1] for i in alquiler if i[0] == 'Apartamento' ]\n",
        "print(ApartmenList)\n",
        "\n"
      ],
      "metadata": {
        "colab": {
          "base_uri": "https://localhost:8080/"
        },
        "id": "_l-uuWPJYc5U",
        "outputId": "82c097dc-5809-446d-a046-6e4591fc8af5"
      },
      "execution_count": null,
      "outputs": [
        {
          "output_type": "stream",
          "name": "stdout",
          "text": [
            "[1700, 1400, 1900]\n"
          ]
        }
      ]
    },
    {
      "cell_type": "code",
      "source": [
        "\"\"\"5 - Crea un diccionario usando la comprensión de diccionarios (dict comprehension)\n",
        "en el que las claves estén en la lista de meses y los valores estén en la lista de gasto.\n",
        "#\"\"\"\n",
        "\n",
        "meses = ['Jan', 'Fev', 'Mar', 'Abr', 'Mai',\n",
        "              'Jun', 'Jul', 'Ago', 'Set', 'Out', 'Nov', 'Dez']\n",
        "\n",
        "Expenses = [860, 490, 1010, 780, 900, 630, 590, 770, 620, 560, 840, 360]\n",
        "\n",
        "DiccMonthExpenses = {month:expenses for month, expenses in zip(meses, Expenses)}\n",
        "print(DiccMonthExpenses)\n"
      ],
      "metadata": {
        "colab": {
          "base_uri": "https://localhost:8080/"
        },
        "id": "a2QYx6j7Yc1l",
        "outputId": "7d03f805-5eee-43f7-ff03-e82ecb2ff9d8"
      },
      "execution_count": null,
      "outputs": [
        {
          "output_type": "stream",
          "name": "stdout",
          "text": [
            "{'Jan': 860, 'Fev': 490, 'Mar': 1010, 'Abr': 780, 'Mai': 900, 'Jun': 630, 'Jul': 590, 'Ago': 770, 'Set': 620, 'Out': 560, 'Nov': 840, 'Dez': 360}\n"
          ]
        }
      ]
    },
    {
      "cell_type": "code",
      "source": [
        "\"\"\"6 - Una tienda tiene una base de datos con la información de venta de cada representante y\n",
        "de cada año y necesita filtrar solo los datos del año 2022 con ventas mayores a 6000.\n",
        "La tienda proporcionó una muestra con solo las columnas de los años y los valores de venta\n",
        "para que puedas ayudar a realizar la filtración de los datos a través de un código:\n",
        "\n",
        "Crea una lista usando la comprensión de listas para filtrar los valores de 2022\n",
        "que sean mayores a 6000.\n",
        "\"\"\"\n",
        "\n",
        "ventas = [('2023', 4093), ('2021', 4320), ('2021', 5959), ('2022', 8883),\n",
        "          ('2023', 9859), ('2022', 5141), ('2022', 7688), ('2022', 9544),\n",
        "          ('2023', 4794), ('2021', 7178), ('2022', 3030), ('2021', 7471),\n",
        "           ('2022', 4226), ('2022', 8190), ('2021', 9680), ('2022', 5616)]\n",
        "\n",
        "FilterList = [i for i in ventas if i[0] == \"2022\" and i[1] > 6000 ]\n",
        "print(FilterList)\n"
      ],
      "metadata": {
        "colab": {
          "base_uri": "https://localhost:8080/"
        },
        "id": "GU6mtcZIYcyE",
        "outputId": "5fe9ff7f-ad7e-4623-aab1-fcfce25956e7"
      },
      "execution_count": null,
      "outputs": [
        {
          "output_type": "stream",
          "name": "stdout",
          "text": [
            "[('2022', 8883), ('2022', 7688), ('2022', 9544), ('2022', 8190)]\n"
          ]
        }
      ]
    },
    {
      "cell_type": "code",
      "source": [
        "\"\"\"7 - Una clínica analiza datos de pacientes y almacena el valor numérico de la glucosa\n",
        "en una base de datos y le gustaría etiquetar los datos de la siguiente manera:\n",
        "\n",
        "Glucosa igual o inferior a 70: 'Hipoglicemia'\n",
        "Glucosa entre 70 y 99: 'Normal'\n",
        "Glucosa entre 100 y 125: 'Alterada'\n",
        "Glucosa superior a 125: 'Diabetes'\n",
        "\n",
        "La clínica proporcionó parte de los valores y tu tarea es crear una lista de tuplas\n",
        "usando la comprensión de listas que contenga la etiqueta y el valor de la glucemia en\n",
        "cada tupla.\"\"\"\n",
        "\n",
        "glicemia = [129, 82, 60, 97, 101, 65, 62, 167, 87, 53, 58, 92, 66, 120, 109, 62, 86, 96, 103, 88, 155, 52, 89, 73]\n",
        "Category = [\"Hipoglicemia\", \"Normal\", \"Alterada\", \"Diabets\"]\n",
        "Glicemia_List = [\n",
        "  ( Category[0], i ) if  i < 70\n",
        "  else ( Category[1], i ) if  70 <= i <= 99\n",
        "  else ( Category[2], i ) if 100 <= i <= 125\n",
        "  else ( Category[3], i ) # if i >= 125 else final\n",
        "  for i in glicemia\n",
        "]\n",
        "\n",
        "# for i in glicemia:\n",
        "#   if i < 70:\n",
        "#     Glicemia_List.append((\"Hipoglicemia\", i))\n",
        "#   elif 70 <= i <= 99:\n",
        "#     Glicemia_List.append((\"Normal\", i))\n",
        "#   elif 100 <= i <= 125:\n",
        "#     Glicemia_List.append((\"Alterada\", i))\n",
        "#   elif i >= 125:\n",
        "#     Glicemia_List.append((\"Diabetes\", i))\n",
        "\n",
        "print(Glicemia_List)\n"
      ],
      "metadata": {
        "colab": {
          "base_uri": "https://localhost:8080/"
        },
        "id": "B3Hd9OMNYcok",
        "outputId": "316ebacc-069a-4c9d-c1ff-c95a8a56c2a4"
      },
      "execution_count": null,
      "outputs": [
        {
          "output_type": "stream",
          "name": "stdout",
          "text": [
            "[('Diabets', 129), ('Normal', 82), ('Hipoglicemia', 60), ('Normal', 97), ('Alterada', 101), ('Hipoglicemia', 65), ('Hipoglicemia', 62), ('Diabets', 167), ('Normal', 87), ('Hipoglicemia', 53), ('Hipoglicemia', 58), ('Normal', 92), ('Hipoglicemia', 66), ('Alterada', 120), ('Alterada', 109), ('Hipoglicemia', 62), ('Normal', 86), ('Normal', 96), ('Alterada', 103), ('Normal', 88), ('Diabets', 155), ('Hipoglicemia', 52), ('Normal', 89), ('Normal', 73)]\n"
          ]
        }
      ]
    },
    {
      "cell_type": "code",
      "source": [
        "\"\"\"8 - Un comercio electrónico tiene información de id de venta, cantidad vendida y\n",
        "precio del producto divididos en las siguientes listas:\n",
        "\n",
        "La plataforma necesita estructurar estos datos en una tabla que contenga el valor\n",
        "total de la venta, que se obtiene multiplicando la cantidad por el precio unitario.\n",
        "Además, la tabla debe contener un encabezado indicando las columnas: 'id', 'cantidad',\n",
        "'precio' y 'total'.\n",
        "\n",
        "Crea una lista de tuplas en la que cada tupla tenga id, cantidad, precio y valor total,\n",
        " siendo la primera tupla el encabezado de la tabla.\n",
        "\n",
        "\"\"\"\n",
        "\n",
        "id = [0, 1, 2, 3, 4, 5, 6, 7, 8, 9]\n",
        "cantidad = [15, 12, 1, 15, 2, 11, 2, 12, 2, 4]\n",
        "precio = [93.0, 102.0, 18.0, 41.0, 122.0, 14.0, 71.0, 48.0, 14.0, 144.0]\n",
        "Precio_Total = [ i[0]*i[1] for i in zip(cantidad, precio)]\n",
        "\n",
        "Table = [ (\"id\", \"cantidad\", \"precio\", \"total\") ]\n",
        "\n",
        "Table.append( [i for i in zip(id, cantidad, precio, Precio_Total) ] )\n",
        "\n",
        "print( Table )\n"
      ],
      "metadata": {
        "colab": {
          "base_uri": "https://localhost:8080/"
        },
        "id": "7ZVOB9IbeBJK",
        "outputId": "9414fc6c-3ed7-4322-a5fc-122290eccbab"
      },
      "execution_count": null,
      "outputs": [
        {
          "output_type": "stream",
          "name": "stdout",
          "text": [
            "[('id', 'cantidad', 'precio', 'total'), [(0, 15, 93.0, 1395.0), (1, 12, 102.0, 1224.0), (2, 1, 18.0, 18.0), (3, 15, 41.0, 615.0), (4, 2, 122.0, 244.0), (5, 11, 14.0, 154.0), (6, 2, 71.0, 142.0), (7, 12, 48.0, 576.0), (8, 2, 14.0, 28.0), (9, 4, 144.0, 576.0)]]\n"
          ]
        }
      ]
    },
    {
      "cell_type": "code",
      "source": [
        "\"\"\"9 - Una empresa tiene sucursales distribuidas en los estados de la región Sudeste de\n",
        "Brasil. En una de las tablas de registro de las sucursales, hay una columna que contiene\n",
        " la información de a qué estado pertenece:\n",
        "\n",
        "La empresa siempre está abriendo nuevas sucursales, por lo que la tabla está\n",
        "constantemente recibiendo nuevos registros y al gerente le gustaría tener la\n",
        "información actualizada de la cantidad de sucursales en cada estado.\n",
        "\n",
        "A partir de la columna con la información de los estados, crea un diccionario\n",
        "utilizando la comprensión de diccionarios (dict comprehension) con la clave siendo\n",
        "el nombre de un estado y el valor siendo la cantidad de veces que aparece el estado en\n",
        "la lista.\n",
        "\n",
        "Consejo: Puedes hacer un paso intermedio para generar una lista de listas en la que\n",
        "cada una de las listas tenga el nombre de solo un estado con valores repetidos.\"\"\"\n",
        "\n",
        "estados =['CMX', 'OAX', 'PUE', 'PUE', 'CMX', 'PUE', 'OAX', 'OAX', 'OAX', 'CMX', 'CMX',\n",
        "          'PUE', 'OAX', 'CMX', 'VER', 'PUE', 'VER', 'CMX', 'PUE', 'CMX', 'OAX', 'CMX', 'PUE']\n",
        "\n",
        "Dicc_3 = {State:estados.count(State) for State in estados}\n",
        "print(Dicc_3)\n",
        "\n",
        "# ListState =[];\n",
        "# for i in estados:\n",
        "#   ListState.append( (i, estados.count(i) ) )\n",
        "\n",
        "# # It seems that in this line, it is two concatenated for\n",
        "# DiccState = { State : NumberState for State, NumberState in ListState }\n",
        "\n",
        "# print( DiccState )\n",
        "# print( ListState )\n"
      ],
      "metadata": {
        "colab": {
          "base_uri": "https://localhost:8080/"
        },
        "id": "wTZr53r5bZww",
        "outputId": "4b8cb7c5-70aa-4625-8a8a-b757405876de"
      },
      "execution_count": null,
      "outputs": [
        {
          "output_type": "stream",
          "name": "stdout",
          "text": [
            "{'CMX': 8, 'OAX': 6, 'PUE': 7, 'VER': 2}\n"
          ]
        }
      ]
    },
    {
      "cell_type": "code",
      "source": [
        "\"\"\" 10 - En esa misma tabla de registro de sucursales, hay una columna con la información de\n",
        "la cantidad de personas empleadas y el gerente quisiera tener un agrupamiento de la suma de\n",
        "esas personas para cada estado. Las informaciones contenidas en la tabla son:\n",
        "\n",
        " A partir de la lista de tuplas, crea un diccionario en el que las claves son los nombres\n",
        " de los estados únicos y los valores son las listas con el número de empleados referentes\n",
        "  al estado. También crea un diccionario en el que las claves son los nombres de los estados\n",
        "  y los valores son la suma de empleados por estado.\n",
        "\"\"\"\n",
        "\n",
        "\"\"\"Set\n",
        "Sets are used to store multiple items in a single variable.\n",
        "myset = {\"apple\", \"banana\", \"cherry\"}\n",
        "\n",
        "thisset = {\"apple\", \"banana\", \"cherry\"}\n",
        "thisset.add(\"orange\")\n",
        "\"\"\"\n",
        "#  I've got to constrain the topic, and that is the database structure.\n",
        "empleados = [('CMX', 16), ('OAX', 8), ('PUE', 9), ('PUE', 6), ('CMX', 10), ('PUE', 4),\n",
        "              ('OAX',9),  ('OAX', 7), ('OAX', 12), ('CMX', 7), ('CMX', 11), ('PUE',8),\n",
        "              ('OAX',8), ('CMX',9), ('VER', 13), ('PUE', 5),  ('VER', 9), ('CMX', 12),\n",
        "               ('PUE', 10), ('CMX', 7), ('OAX', 14), ('CMX', 10), ('PUE', 12)]\n",
        "\n",
        "# This is way to practice, problem solving, small iterations and try and fail test.\n",
        "Dict_1 = {i[0]:[j[1] for j in empleados if i[0]== j[0]] for i in empleados}\n",
        "Dict_2 = {i[0]:sum([j[1] for j in empleados if i[0]== j[0]]) for i in empleados}\n",
        "\n",
        "print(Dict_1)\n",
        "print(Dict_2)\n",
        "# for i in range( len(empleados) ):\n",
        "#     Dict_1.update()\n"
      ],
      "metadata": {
        "collapsed": true,
        "colab": {
          "base_uri": "https://localhost:8080/"
        },
        "id": "xe_zu4nqbShF",
        "outputId": "6fde7163-6e6e-4406-9547-3e5910f90470"
      },
      "execution_count": null,
      "outputs": [
        {
          "output_type": "stream",
          "name": "stdout",
          "text": [
            "{'CMX': [16, 10, 7, 11, 9, 12, 7, 10], 'OAX': [8, 9, 7, 12, 8, 14], 'PUE': [9, 6, 4, 8, 5, 10, 12], 'VER': [13, 9]}\n",
            "{'CMX': 82, 'OAX': 58, 'PUE': 54, 'VER': 22}\n"
          ]
        }
      ]
    },
    {
      "cell_type": "code",
      "source": [
        "empleados = [('CMX', 16), ('OAX', 8), ('PUE', 9), ('PUE', 6), ('CMX', 10), ('PUE', 4),\n",
        "              ('OAX',9),  ('OAX', 7), ('OAX', 12), ('CMX', 7), ('CMX', 11), ('PUE',8),\n",
        "              ('OAX',8), ('CMX',9), ('VER', 13), ('PUE', 5),  ('VER', 9), ('CMX', 12),\n",
        "               ('PUE', 10), ('CMX', 7), ('OAX', 14), ('CMX', 10), ('PUE', 12)]\n",
        "\n",
        "States = [i[0] for i in empleados  ]\n",
        "print(States)\n",
        "print( set(States) ) # Set constructor gets a list as input and delete repeated values.\n"
      ],
      "metadata": {
        "colab": {
          "base_uri": "https://localhost:8080/"
        },
        "id": "VIGKm00MbSdU",
        "outputId": "530b8490-c94d-4b4a-c30c-f4d7b964e04e"
      },
      "execution_count": null,
      "outputs": [
        {
          "output_type": "stream",
          "name": "stdout",
          "text": [
            "['CMX', 'OAX', 'PUE', 'PUE', 'CMX', 'PUE', 'OAX', 'OAX', 'OAX', 'CMX', 'CMX', 'PUE', 'OAX', 'CMX', 'VER', 'PUE', 'VER', 'CMX', 'PUE', 'CMX', 'OAX', 'CMX', 'PUE']\n",
            "{'OAX', 'CMX', 'VER', 'PUE'}\n"
          ]
        }
      ]
    },
    {
      "cell_type": "code",
      "source": [],
      "metadata": {
        "colab": {
          "base_uri": "https://localhost:8080/"
        },
        "id": "7jZQ5yMAbSaP",
        "outputId": "52ea9bbf-6095-4ebf-90f0-00b36542b591"
      },
      "execution_count": null,
      "outputs": [
        {
          "output_type": "stream",
          "name": "stdout",
          "text": [
            "{'brand': 'Ford', 'model': 'Mustang', 'year': 1964, 'color': 'red'}\n"
          ]
        }
      ]
    },
    {
      "cell_type": "code",
      "source": [],
      "metadata": {
        "colab": {
          "base_uri": "https://localhost:8080/"
        },
        "id": "EnCLmBwtqGJz",
        "outputId": "ef615b47-cd01-44eb-cf39-0f44527bf70f"
      },
      "execution_count": null,
      "outputs": [
        {
          "output_type": "stream",
          "name": "stdout",
          "text": [
            "{'brand': 'Ford', 'model': 'Mustang', 'year': 1964, 'color': 'red'}\n"
          ]
        }
      ]
    },
    {
      "cell_type": "code",
      "source": [],
      "metadata": {
        "id": "59XwLE0ZqF08"
      },
      "execution_count": null,
      "outputs": []
    },
    {
      "cell_type": "code",
      "source": [],
      "metadata": {
        "colab": {
          "base_uri": "https://localhost:8080/"
        },
        "id": "BtJ-oU_iqIBR",
        "outputId": "9035f29d-3df6-4a12-8e04-8b56ed0db74e"
      },
      "execution_count": null,
      "outputs": [
        {
          "output_type": "stream",
          "name": "stdout",
          "text": [
            "{'brand': 'Ford', 'model': 'Mustang', 'year': 1964, 'color': 'blue'}\n"
          ]
        }
      ]
    },
    {
      "cell_type": "markdown",
      "source": [
        "## <font color=green> 4. LIDIANDO CON EXCEPCIONES\n",
        "---"
      ],
      "metadata": {
        "id": "RxKC5WVoCYp3"
      }
    },
    {
      "cell_type": "markdown",
      "source": [
        "Hemos podido evidenciar hasta aquí la existencia de algunos errores y excepciones en la ejecución de algún comando. Como científico/a de datos o programador, necesitarás estar atento a estas situaciones para evitar bugs o problemas en tus códigos y análisis que puedan afectar la experiencia tanto del usuario como la eficiencia de su análisis.\n",
        "\n",
        "Existen básicamente dos formas distintas de errores: Los **errores de sintáxis** y las **excepciones**.\n",
        "\n",
        "Las excepciones son errores detectados durante la ejecución e interrumpen el flujo del programa cerrándolo en caso de que no sean tratadas.  \n",
        "\n",
        "Vamos a aprender a identificar y tratar algunas de las excepciones aquí, pero es siempre importante consultar la documentación para investigar y verificar cuáles se ajustan a sus proyectos.\n",
        "\n",
        "**Documentación sobre errores y excepciones:** https://docs.python.org/es/3/tutorial/errors.html"
      ],
      "metadata": {
        "id": "MzOZ_0M3CU1x"
      }
    },
    {
      "cell_type": "markdown",
      "source": [
        "## 4.1 Tratando las Excepciones\n",
        "\n",
        "El tratamiento de las excepciones contribuye a establecer un flujo alternativo para la ejecución del código evitando la interrupción de los procesos inesperadamente.\n",
        "\n",
        "Existe una serie de excepciones, y a partir del comportamiento que queremos, y de los errores que queremos tratar, es posible construir un camino para el usuario, o también, proveer más detalles sobre aquella excepción.\n",
        "\n",
        "- Jerarquía de las excepciones (https://docs.python.org/es/3/library/exceptions.html#exception-hierarchy)"
      ],
      "metadata": {
        "id": "x3E66krBST7K"
      }
    },
    {
      "cell_type": "markdown",
      "source": [
        "### Try ... Except\n",
        "\n",
        "```python\n",
        "try:\n",
        "  # código que será ejecutado. En caso de que surja una excepción, para inmediatamente\n",
        "except <nombre_de_la_excepcion as e>:\n",
        "  # Si surje una excepción en el try, ejecuta este código, si no, salta esta etapa\n",
        "```"
      ],
      "metadata": {
        "id": "h9lj8Wfk__cl"
      }
    },
    {
      "cell_type": "markdown",
      "source": [
        "#### **Situación 12:**\n",
        "\n",
        "Creaste un código que lee un diccionario con las notas de los estudiantes y querías retornar la lista de notas de un estudiante.\n",
        "\n",
        "En caso que el/la estudiante no esté matriculado(a) en el grupo debemos tratar la excepción para presentar el mensaje \"Estudiante no matriculado(a) en el grupo\".\n",
        "\n",
        "Vamos a trabajar en este ejemplo con la excepción **Key Error** que interrumpirá el processo de este trecho de código.\n",
        "\n",
        "**¿Vamos a probar este primer tratamiento?**\n",
        "\n"
      ],
      "metadata": {
        "id": "miwzhPNdD8Ty"
      }
    },
    {
      "cell_type": "code",
      "source": [
        "notas = {'Juan': [8.0, 9.0, 10.0], 'Maria': [9.0, 7.0, 6.0], 'José': [3.4, 7.0, 8.0], 'Claudia': [5.5, 6.6, 8.0],\n",
        "         'Ana': [6.0, 10.0, 9.5], 'Jorge': [5.5, 7.5, 9.0], 'Julia': [6.0, 8.0, 7.0], 'Pedro': [3.0, 4.0, 6.0]}"
      ],
      "metadata": {
        "id": "UvVbXY0XVm-f"
      },
      "execution_count": null,
      "outputs": []
    },
    {
      "cell_type": "code",
      "source": [],
      "metadata": {
        "id": "rFBq02dbJtkF"
      },
      "execution_count": null,
      "outputs": []
    },
    {
      "cell_type": "code",
      "source": [],
      "metadata": {
        "id": "IZwxTL1EJvRl"
      },
      "execution_count": null,
      "outputs": []
    },
    {
      "cell_type": "markdown",
      "source": [
        "### Agregando la cláusula Else\n",
        "\n",
        "```python\n",
        "try:\n",
        "  # código que será ejecutado. En caso de que surja una excepción, para inmediatamente\n",
        "except:\n",
        "  # Si surje una excepción en el try, ejecuta este código, si no, salta esta etapa\n",
        "else:\n",
        "  # Si no surjen excepciones, ejecuta esta parte del código\n",
        "```"
      ],
      "metadata": {
        "id": "hKhKzgQoBHLb"
      }
    },
    {
      "cell_type": "markdown",
      "source": [
        "#### **Situación 13:**\n",
        "\n",
        "Creaste un código que lee un diccionario con las notas de los estudiantes y querías retornar la lista de notas de un estudiante.\n",
        "\n",
        "En caso de que el/la estudiante no esté matriculado(a) en la clase, debe aparecer el siguiente mensaje: \"Estudiante no matriculado(a) en el grupo\" y, si no surje la excepción, debemos exhibir la lista con las notas del(la) estudiante.\n",
        "\n",
        "Vamos a trabajar en este ejemplo con la excepción **Key Error** que interrumpirá el proceso de este trecho de código.\n",
        "\n",
        "**¿Vamos a probar este tratamiento?**\n"
      ],
      "metadata": {
        "id": "USN3SA2tMjL0"
      }
    },
    {
      "cell_type": "code",
      "source": [],
      "metadata": {
        "id": "Qr_4-D3UJxcE"
      },
      "execution_count": null,
      "outputs": []
    },
    {
      "cell_type": "code",
      "source": [],
      "metadata": {
        "id": "uy2xPGXoJzXS"
      },
      "execution_count": null,
      "outputs": []
    },
    {
      "cell_type": "markdown",
      "source": [
        "### Añadiendo la cláusula finally\n",
        "\n",
        "```python\n",
        "try:\n",
        "  # código que será ejecutado. En caso de que surja una excepción, para inmediatamente\n",
        "except:\n",
        "  # Si surje una excepción en el try, ejecuta este código, si no, salta esta etapa\n",
        "else:\n",
        "  # Si no surjen excepciones, ejecuta esta parte del código\n",
        "finally:\n",
        "  # Ejecuta este trecho (con o sin excepción)\n",
        "```"
      ],
      "metadata": {
        "id": "Dw_efTlbBhll"
      }
    },
    {
      "cell_type": "markdown",
      "source": [
        "#### **Situación 14:**\n",
        "\n",
        "Creaste un código que lee un diccionario con las notas de los estudiantes y querías retornar la lista de notas de un estudiante.\n",
        "\n",
        "En caso de que el/la estudiante no esté matriculado(a) en la clase, debe aparecer el siguiente mensaje: \"Estudiante no matriculado(a) en el grupo\" y, si no surje la excepción, debemos exhibir la lista con las notas del(la) estudiante. Un texto avisando que \"La consulta ha concluído.\" debe ser mostrado independientemente de si surgió o no alguna excepción.\n",
        "\n",
        "\n",
        "Vamos a trabajar en este ejemplo con la excepción **Key Error** que interrumpirá el proceso de este trecho del código.\n",
        "\n",
        "**¿Vamos a probar este tratamiento?**"
      ],
      "metadata": {
        "id": "jGtFVx5GdnsS"
      }
    },
    {
      "cell_type": "code",
      "source": [
        "help( ValueError )"
      ],
      "metadata": {
        "id": "PwdLYP_zJ04s",
        "colab": {
          "base_uri": "https://localhost:8080/"
        },
        "collapsed": true,
        "outputId": "64774a7d-3b53-41ea-9dc4-3e4fe4079598"
      },
      "execution_count": null,
      "outputs": [
        {
          "output_type": "stream",
          "name": "stdout",
          "text": [
            "Help on class ValueError in module builtins:\n",
            "\n",
            "class ValueError(Exception)\n",
            " |  Inappropriate argument value (of correct type).\n",
            " |  \n",
            " |  Method resolution order:\n",
            " |      ValueError\n",
            " |      Exception\n",
            " |      BaseException\n",
            " |      object\n",
            " |  \n",
            " |  Built-in subclasses:\n",
            " |      UnicodeError\n",
            " |  \n",
            " |  Methods defined here:\n",
            " |  \n",
            " |  __init__(self, /, *args, **kwargs)\n",
            " |      Initialize self.  See help(type(self)) for accurate signature.\n",
            " |  \n",
            " |  ----------------------------------------------------------------------\n",
            " |  Static methods defined here:\n",
            " |  \n",
            " |  __new__(*args, **kwargs)\n",
            " |      Create and return a new object.  See help(type) for accurate signature.\n",
            " |  \n",
            " |  ----------------------------------------------------------------------\n",
            " |  Methods inherited from BaseException:\n",
            " |  \n",
            " |  __delattr__(self, name, /)\n",
            " |      Implement delattr(self, name).\n",
            " |  \n",
            " |  __getattribute__(self, name, /)\n",
            " |      Return getattr(self, name).\n",
            " |  \n",
            " |  __reduce__(...)\n",
            " |      Helper for pickle.\n",
            " |  \n",
            " |  __repr__(self, /)\n",
            " |      Return repr(self).\n",
            " |  \n",
            " |  __setattr__(self, name, value, /)\n",
            " |      Implement setattr(self, name, value).\n",
            " |  \n",
            " |  __setstate__(...)\n",
            " |  \n",
            " |  __str__(self, /)\n",
            " |      Return str(self).\n",
            " |  \n",
            " |  add_note(...)\n",
            " |      Exception.add_note(note) --\n",
            " |      add a note to the exception\n",
            " |  \n",
            " |  with_traceback(...)\n",
            " |      Exception.with_traceback(tb) --\n",
            " |      set self.__traceback__ to tb and return self.\n",
            " |  \n",
            " |  ----------------------------------------------------------------------\n",
            " |  Data descriptors inherited from BaseException:\n",
            " |  \n",
            " |  __cause__\n",
            " |      exception cause\n",
            " |  \n",
            " |  __context__\n",
            " |      exception context\n",
            " |  \n",
            " |  __dict__\n",
            " |  \n",
            " |  __suppress_context__\n",
            " |  \n",
            " |  __traceback__\n",
            " |  \n",
            " |  args\n",
            "\n"
          ]
        }
      ]
    },
    {
      "cell_type": "code",
      "source": [
        "# try:\n",
        "x = float(\"Fuck\")\n",
        "# except Exception as e:\n",
        "#   ValueError(\"Fucking hell\")\n",
        "#   print(e)\n"
      ],
      "metadata": {
        "id": "pv0BaQ95J1BA",
        "colab": {
          "base_uri": "https://localhost:8080/",
          "height": 211
        },
        "outputId": "1ae49a0d-7ae0-47db-ffc4-7023a68b8e5f"
      },
      "execution_count": null,
      "outputs": [
        {
          "output_type": "error",
          "ename": "ValueError",
          "evalue": "could not convert string to float: 'Fuck'",
          "traceback": [
            "\u001b[0;31m---------------------------------------------------------------------------\u001b[0m",
            "\u001b[0;31mValueError\u001b[0m                                Traceback (most recent call last)",
            "\u001b[0;32m<ipython-input-7-7cae0fe42db6>\u001b[0m in \u001b[0;36m<cell line: 0>\u001b[0;34m()\u001b[0m\n\u001b[1;32m      1\u001b[0m \u001b[0;31m# try:\u001b[0m\u001b[0;34m\u001b[0m\u001b[0;34m\u001b[0m\u001b[0m\n\u001b[0;32m----> 2\u001b[0;31m \u001b[0mx\u001b[0m \u001b[0;34m=\u001b[0m \u001b[0mfloat\u001b[0m\u001b[0;34m(\u001b[0m\u001b[0;34m\"Fuck\"\u001b[0m\u001b[0;34m)\u001b[0m\u001b[0;34m\u001b[0m\u001b[0;34m\u001b[0m\u001b[0m\n\u001b[0m\u001b[1;32m      3\u001b[0m \u001b[0;31m# except Exception as e:\u001b[0m\u001b[0;34m\u001b[0m\u001b[0;34m\u001b[0m\u001b[0m\n\u001b[1;32m      4\u001b[0m \u001b[0;31m#   ValueError(\"Fucking hell\")\u001b[0m\u001b[0;34m\u001b[0m\u001b[0;34m\u001b[0m\u001b[0m\n\u001b[1;32m      5\u001b[0m \u001b[0;31m#   print(e)\u001b[0m\u001b[0;34m\u001b[0m\u001b[0;34m\u001b[0m\u001b[0m\n",
            "\u001b[0;31mValueError\u001b[0m: could not convert string to float: 'Fuck'"
          ]
        }
      ]
    },
    {
      "cell_type": "markdown",
      "source": [
        "## 4.2 Raise\n",
        "\n",
        "Otra forma de trabajar con las excepciones en tu código, es generando tus propias excepciones para determinados comportamientos que deseas en tu código.\n",
        "\n",
        "Para ello, utilizamos la palabra clave `raise` junto al tipo de excepción que se desea mostrar y el mensaje que será exhibido.   "
      ],
      "metadata": {
        "id": "HdjllLBpST_2"
      }
    },
    {
      "cell_type": "markdown",
      "source": [
        "```python\n",
        "raise NombreDelError(\"Mensaje deseado.\")\n",
        "```"
      ],
      "metadata": {
        "id": "_nIOnDQufv6Z"
      }
    },
    {
      "cell_type": "markdown",
      "source": [
        "#### **Situação 15:**\n",
        "\n",
        "Creaste una función para calcular el promedio de un estudiante en una determinada materia pasando en una lista las notas de este estudiante.\n",
        "\n",
        "Pretendes tratar 2 situaciones:\n",
        "\n",
        "- Si la lista posee un valor no numérico el cálculo de promedio no será ejecutado y un mensaje de \"No fue posible calcular el promedio del(la) estudiante. Solo se admiten valores numéricos!\" será exhibido.\n",
        "\n",
        "- En caso que la lista tenga más de 4 notas, surgirá una excepción del tipo **ValueError** informando que \"La lista no puede poseer más de 4 notas.\"\n",
        "\n",
        "Un texto avisando que \"La consulta ha concluído.\" debe ser mostrado independientemente de si surgió o no alguna excepción.\n",
        "\n",
        "**¿Vamos a resolver este desafío?**"
      ],
      "metadata": {
        "id": "xapeB2ivgB7R"
      }
    },
    {
      "cell_type": "code",
      "source": [
        "def promedio(lista: list=[0]) -> float:\n",
        "  ''' Función para calcular el promedio de notas en una lista\n",
        "\n",
        "  lista: list, default [0]\n",
        "    Lista con las notas para calcular el promedio\n",
        "  return = calculo: float\n",
        "    Promedio calculado\n",
        "  '''\n",
        "\n",
        "  calculo = sum(lista) / len(lista)\n",
        "\n",
        "  return calculo"
      ],
      "metadata": {
        "id": "kKeFuHUfhSfa"
      },
      "execution_count": null,
      "outputs": []
    },
    {
      "cell_type": "code",
      "source": [
        "\"\"\"\n",
        "1 - Haz un programa que solicite a la persona usuaria ingresar dos números decimales y\n",
        "calcular la división entre estos números. El código debe incluir un manejo de error,\n",
        "indicando el tipo de error que se generó si la división no es posible.\n",
        "\n",
        "Prueba el programa con el segundo valor numérico de la entrada igual a 0. También prueba\n",
        "usando caracteres textuales en la entrada para verificar los tipos de errores que ocurren.\n",
        "\"\"\"\n",
        "\n",
        "\n",
        "try:\n",
        "  float_1 = float(input(\"Type in a floar number: \"))\n",
        "  float_2 = float(input(\"Type in a floar number: \"))\n",
        "  print( float_1/float_2  )\n",
        "except ZeroDivisionError:\n",
        "  print(\"Not division by zero alowed\")\n",
        "except ValueError:\n",
        "  print(\"You've got to type a float number\")\n",
        "finally:\n",
        "  print(\"try again\")"
      ],
      "metadata": {
        "id": "_ghW6hb9KBpU",
        "colab": {
          "base_uri": "https://localhost:8080/"
        },
        "outputId": "94b9be53-257c-4491-99fd-4515586ab97a"
      },
      "execution_count": null,
      "outputs": [
        {
          "output_type": "stream",
          "name": "stdout",
          "text": [
            "Type in a floar number: 487\n",
            "Type in a floar number: sd\n",
            "You've got to type a float number\n",
            "try again\n"
          ]
        }
      ]
    },
    {
      "cell_type": "code",
      "source": [
        "\"\"\"\n",
        "2 - Haz un programa que solicite a la persona usuaria ingresar un texto que será una\n",
        "clave a buscar en el siguiente diccionario:\n",
        "edades = {'Júlia': 16, 'Carol': 23, 'Alberto': 19, 'Roberta': 17}, almacenando el\n",
        "resultado del valor en una variable. El código debe incluir un manejo de error KeyError,\n",
        "imprimiendo la información 'Nombre no encontrado' en caso de error, e imprimir el valor\n",
        "si no ocurre ninguno.\n",
        "\n",
        "Prueba el programa con un nombre presente en una de las claves del diccionario y con uno\n",
        "que no esté en el diccionario para verificar el mensaje de error.\n",
        "\"\"\"\n",
        "\n",
        "Ages = {'Júlia': 16, 'Carol': 23, 'Alberto': 19, 'Roberta': 17}\n",
        "\n",
        "try:\n",
        "  KeyName = input(\"Type in the name you want to get: \")\n",
        "  KeyName = KeyName.capitalize()\n",
        "  print(f\"{KeyName}´s age is { Ages[KeyName] }\")\n",
        "except KeyError:\n",
        "  print(\"Name is not found or written wrong\")\n",
        "finally:\n",
        "  print(\"Type in again\")\n",
        "\n",
        "\n"
      ],
      "metadata": {
        "colab": {
          "base_uri": "https://localhost:8080/"
        },
        "id": "CwL-2BaXvpk2",
        "outputId": "bdc9fc1e-2cbf-49f3-a542-ffb579055f3d"
      },
      "execution_count": null,
      "outputs": [
        {
          "output_type": "stream",
          "name": "stdout",
          "text": [
            "Type in the name you want to get: ramiro\n",
            "Name is not found or written wrong\n",
            "Type in again\n"
          ]
        }
      ]
    },
    {
      "cell_type": "code",
      "source": [
        "\"\"\"\n",
        "3 - Crea una función que reciba una lista como parámetro y convierta todos los valores\n",
        " de la lista a flotantes. La función debe incluir un manejo de error indicando el tipo\n",
        " de error generado y devolver la lista si no ha ocurrido ningún error. Por último, debe\n",
        " tener la cláusula finally para imprimir el texto: 'Fin de la ejecución de la función'.\n",
        " \"\"\"\n",
        "\n",
        "def floatConvert(List_1:list) -> list:\n",
        "  List_Float = []\n",
        "\n",
        "  try:\n",
        "    for i in List_1:\n",
        "      List_Float.append( float(i) )\n",
        "  except:\n",
        "    print(\"There are other type of value different from numbers\")\n",
        "  else:\n",
        "    print(List_Float)\n",
        "    return List_Float\n",
        "  finally:\n",
        "    print(\"Function executed\")\n",
        "\n",
        "\n",
        "List_2 = [str(i) for i in range(0,30,3)]\n",
        "List_2.append(\"dfdere\")\n",
        "print( List_2 )\n",
        "floatConvert( List_2 )\n",
        "\n",
        "\n",
        "\n"
      ],
      "metadata": {
        "colab": {
          "base_uri": "https://localhost:8080/"
        },
        "id": "yixtwjAbvpeP",
        "outputId": "273d6722-02ef-4929-c088-3b9f7a012669"
      },
      "execution_count": null,
      "outputs": [
        {
          "output_type": "stream",
          "name": "stdout",
          "text": [
            "['0', '3', '6', '9', '12', '15', '18', '21', '24', '27', 'dfdere']\n",
            "There are other type of value different from numbers\n",
            "Function executed\n"
          ]
        }
      ]
    },
    {
      "cell_type": "code",
      "source": [
        "\"\"\"\n",
        "4 - Crea una función que reciba dos listas como parámetros y agrupe los elementos\n",
        "uno a uno de las listas, formando una lista de tuplas de 3 elementos. El primer y\n",
        "segundo elemento de la tupla son los valores en la posición i de las listas y el\n",
        "tercer elemento es la suma de los valores en la posición i de las listas.\n",
        "\n",
        "La función debe incluir un manejo de error indicando el tipo de error generado y\n",
        "devolver como resultado la lista de tuplas. Si las listas enviadas como parámetro\n",
        "tienen tamaños diferentes, la función debe devolver un IndexError con la\n",
        "frase: 'La cantidad de elementos en cada lista es diferente.'.\n",
        "\"\"\"\n",
        "\n",
        "def TuplesFunction(List_1:list, List_2:list) -> list:\n",
        "  ListTuples = []\n",
        "  try:\n",
        "    for i in range( len(List_1) ):\n",
        "      ListTuples.append( ( List_1[i] , List_2[i], List_1[i] + List_2[i] ) )\n",
        "  except IndexError:\n",
        "    print(\"you typed list with different lenght\")\n",
        "  except TypeError:\n",
        "    print(\"you typed a value that isn't a number\")\n",
        "  else:\n",
        "    return ListTuples\n",
        "  finally:\n",
        "    print(\"Function executed\")\n",
        "\n",
        "x = [i for i in range(1, 30, 2)]\n",
        "y = [i for i in range(1, 30, 2)]\n",
        "y.insert(1,\"erere\")\n",
        "TuplesFunction(x, y)"
      ],
      "metadata": {
        "colab": {
          "base_uri": "https://localhost:8080/"
        },
        "id": "CzKBZsxrvpao",
        "outputId": "c17e7733-62ea-4966-8497-e4903b37c60b"
      },
      "execution_count": null,
      "outputs": [
        {
          "output_type": "stream",
          "name": "stdout",
          "text": [
            "you typed a value that isn't a number\n",
            "Function executed\n"
          ]
        }
      ]
    },
    {
      "cell_type": "code",
      "source": [
        "\"\"\"\n",
        "5 - Como desafío, se te ha asignado la tarea de desarrollar un código que contabiliza\n",
        "las puntuaciones de estudiantes de una institución educativa de acuerdo con sus\n",
        "respuestas en una prueba. Este código debe ser probado para un ejemplo de 3 estudiantes\n",
        "con una lista de listas en la que cada lista tiene las respuestas de 5 preguntas objetivas\n",
        "de cada estudiante. Cada pregunta vale un punto y las alternativas posibles son A, B, C o D.\n",
        "\n",
        "Si alguna alternativa en una de las pruebas no está entre las alternativas posibles,\n",
        "debes lanzar un ValueError con el\n",
        "mensaje \"La alternativa [alternativa] no es una opción de alternativa válida\".\n",
        "El cálculo de las 3 notas solo se realizará mediante las entradas con\n",
        "las alternativas A, B, C o D en todas las pruebas. Si no se lanza la excepción,\n",
        "se mostrará una lista con las notas en cada prueba.\n",
        "\"\"\"\n",
        "respuestas = ['D', 'A', 'B', 'C', 'A']\n",
        "\n",
        "tests_sin_ex = [['D', 'A', 'B', 'C', 'A'],\n",
        "                ['C', 'A', 'A', 'C', 'A'],\n",
        "                ['D', 'B', 'A', 'C', 'A']]\n",
        "\n",
        "tests_con_ex = [['D', 'A', 'B', 'C', 'A'],\n",
        "                ['C', 'A', 'A', 'E', 'A'],\n",
        "                ['D', 'B', 'A', 'C', 'A']]\n",
        "\n",
        "# a three element list with a result in each:\n",
        "ResultsCount = []\n",
        "try:\n",
        "  for Student in tests_con_ex:\n",
        "    for k in Student:\n",
        "      match k:\n",
        "        case \"A\" | \"B\" | \"C\" | \"D\":\n",
        "          continue\n",
        "        case _:\n",
        "          raise ValueError(\"Type a valid answer, jut: A, B, C and D\")\n",
        "\n",
        "    x = [1 for i in range( len(Student) ) if respuestas[i] == Student[i]]\n",
        "    ResultsCount.append( sum(x) )\n",
        "except ValueError as e:\n",
        "  print(e)\n",
        "else:\n",
        "  print(ResultsCount)\n",
        "\n",
        "# x = [i if  for i in respuestas]\n",
        "# ResultsCount.append()\n",
        "# try:\n",
        "\n",
        "\n"
      ],
      "metadata": {
        "colab": {
          "base_uri": "https://localhost:8080/"
        },
        "id": "i_2apjH26hjG",
        "outputId": "c91b8060-68ce-4db1-a230-670479a95bcb"
      },
      "execution_count": null,
      "outputs": [
        {
          "output_type": "stream",
          "name": "stdout",
          "text": [
            "Type a valid answer, jut: A, B, C and D\n"
          ]
        }
      ]
    },
    {
      "cell_type": "code",
      "source": [
        "\"\"\"\n",
        "6 - Estás trabajando con procesamiento de lenguaje natural (NLP) y, en esta ocasión, tu líder te pidió que crees un fragmento de código\n",
        "que reciba una lista con las palabras separadas de una frase generada por ChatGPT.\n",
        "\n",
        "Necesitas crear una función que evalúe cada palabra de este texto y verifique si el tratamiento para quitar los\n",
        "símbolos de puntuación (',', '.', '!' y '?') se realizó. De lo contrario, se lanzará una excepción del tipo ValueError\n",
        "señalando el primer caso en que se detectó el uso de una puntuación a través de la frase\n",
        "\"El texto presenta puntuaciones en la palabra \"[palabra]\"\".\n",
        "Esta solicitud se centra en el análisis del patrón de frases generadas por la inteligencia artificial.\n",
        "\"\"\"\n",
        "\n",
        "def NPL(List_1:list):\n",
        "  Raw_Words = []\n",
        "  try:\n",
        "    for word in List_1:\n",
        "      if word.find(\",\") != -1 or word.find(\".\") != -1 or word.find(\"!\") != -1 or word.find(\"?\") != -1:\n",
        "        Raw_Words.append(word)\n",
        "    if len(Raw_Words) != 0:\n",
        "      raise ValueError(f\"El texto presenta puntuaciones en las palabras {Raw_Words}\")\n",
        "\n",
        "  except ValueError as VE:\n",
        "    print(VE)\n",
        "  else:\n",
        "    print(\"Todas las palabras recibieron su tratamiento\")\n",
        "\n",
        "\n",
        "\n",
        "lista_tratada = ['Python', 'es', 'un', 'lenguaje', 'de', 'programación', 'poderoso', 'versátil',\n",
        "                  'y', 'fácil', 'de', 'aprender', 'utilizado', 'en', 'diversos', 'campos', 'desde',\n",
        "                  'análisis', 'de', 'datos', 'hasta', 'inteligencia', 'artificial']\n",
        "\n",
        "lista_no_tratada = ['Python', 'es', 'un', 'lenguaje', 'de', 'programación', 'poderoso,', 'versátil',\n",
        "                  'y', 'fácil,', 'de', 'aprender', 'utilizado', 'en', 'diversos', 'campos,', 'desde',\n",
        "                  'análisis', 'de', 'datos', 'hasta', 'inteligencia', 'artificial!']\n",
        "\n",
        "NPL(lista_no_tratada)\n",
        "NPL(lista_tratada)\n",
        "\n",
        "\n",
        "\n"
      ],
      "metadata": {
        "id": "EY5erABb6hck",
        "outputId": "4da70368-1a35-419a-842d-c2215a1394cc",
        "colab": {
          "base_uri": "https://localhost:8080/"
        }
      },
      "execution_count": 19,
      "outputs": [
        {
          "output_type": "stream",
          "name": "stdout",
          "text": [
            "El texto presenta puntuaciones en las palabras ['poderoso,', 'fácil,', 'campos,', 'artificial!']\n",
            "Todas las palabras recibieron su tratamiento\n"
          ]
        }
      ]
    },
    {
      "cell_type": "code",
      "source": [
        "txt = \"Hello, welcome to my world.\"\n",
        "\n",
        "x = txt.find(\"!\")\n",
        "\n",
        "print(x, len(txt), sep = \" - \")"
      ],
      "metadata": {
        "id": "2-KkOcjn3m76",
        "outputId": "84497f51-a322-4031-fb63-aa132205782a",
        "colab": {
          "base_uri": "https://localhost:8080/"
        }
      },
      "execution_count": 9,
      "outputs": [
        {
          "output_type": "stream",
          "name": "stdout",
          "text": [
            "-1 - 27\n"
          ]
        }
      ]
    },
    {
      "cell_type": "code",
      "source": [
        "txt = \"Hello, welcome to my world.\"\n",
        "\n",
        "x = txt.index(\"!!\")\n",
        "\n",
        "print(x)"
      ],
      "metadata": {
        "id": "Ta3TD11q3m3h",
        "outputId": "2bffcdef-7319-4ab6-c66a-d5599a46c60c",
        "colab": {
          "base_uri": "https://localhost:8080/",
          "height": 211
        }
      },
      "execution_count": 11,
      "outputs": [
        {
          "output_type": "error",
          "ename": "ValueError",
          "evalue": "substring not found",
          "traceback": [
            "\u001b[0;31m---------------------------------------------------------------------------\u001b[0m",
            "\u001b[0;31mValueError\u001b[0m                                Traceback (most recent call last)",
            "\u001b[0;32m<ipython-input-11-386709558>\u001b[0m in \u001b[0;36m<cell line: 0>\u001b[0;34m()\u001b[0m\n\u001b[1;32m      1\u001b[0m \u001b[0mtxt\u001b[0m \u001b[0;34m=\u001b[0m \u001b[0;34m\"Hello, welcome to my world.\"\u001b[0m\u001b[0;34m\u001b[0m\u001b[0;34m\u001b[0m\u001b[0m\n\u001b[1;32m      2\u001b[0m \u001b[0;34m\u001b[0m\u001b[0m\n\u001b[0;32m----> 3\u001b[0;31m \u001b[0mx\u001b[0m \u001b[0;34m=\u001b[0m \u001b[0mtxt\u001b[0m\u001b[0;34m.\u001b[0m\u001b[0mindex\u001b[0m\u001b[0;34m(\u001b[0m\u001b[0;34m\"!!\"\u001b[0m\u001b[0;34m)\u001b[0m\u001b[0;34m\u001b[0m\u001b[0;34m\u001b[0m\u001b[0m\n\u001b[0m\u001b[1;32m      4\u001b[0m \u001b[0;34m\u001b[0m\u001b[0m\n\u001b[1;32m      5\u001b[0m \u001b[0mprint\u001b[0m\u001b[0;34m(\u001b[0m\u001b[0mx\u001b[0m\u001b[0;34m)\u001b[0m\u001b[0;34m\u001b[0m\u001b[0;34m\u001b[0m\u001b[0m\n",
            "\u001b[0;31mValueError\u001b[0m: substring not found"
          ]
        }
      ]
    },
    {
      "cell_type": "code",
      "source": [],
      "metadata": {
        "id": "7P8RDPkL3mur"
      },
      "execution_count": null,
      "outputs": []
    },
    {
      "cell_type": "code",
      "source": [],
      "metadata": {
        "id": "X2To8kJdKGFk"
      },
      "execution_count": null,
      "outputs": []
    },
    {
      "cell_type": "code",
      "source": [],
      "metadata": {
        "id": "nrCsWqX6KGIA"
      },
      "execution_count": null,
      "outputs": []
    }
  ]
}